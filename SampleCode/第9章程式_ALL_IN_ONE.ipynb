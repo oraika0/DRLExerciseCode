{
  "nbformat": 4,
  "nbformat_minor": 0,
  "metadata": {
    "accelerator": "GPU",
    "colab": {
      "name": "F1384_第9章.ipynb",
      "provenance": [],
      "collapsed_sections": [],
      "toc_visible": true
    },
    "kernelspec": {
      "display_name": "Python 3",
      "name": "python3"
    }
  },
  "cells": [
    {
      "cell_type": "markdown",
      "metadata": {
        "id": "EO-uTQhvHbru"
      },
      "source": [
        "# 程式 9.1 （虛擬碼）"
      ]
    },
    {
      "cell_type": "code",
      "metadata": {
        "id": "BoJv2I4DPPPj"
      },
      "source": [
        "# 初始化所有代理人的動作\n",
        "# for j in agents: #走訪環境中所有代理人（儲存於串列中）\n",
        "#   state = environment.get_state() #取得環境目前的狀態\n",
        "#   neighbors = get_neighbors(j, num=3) #找出距離代理人j最近的3個代理人\n",
        "#   joint_action = get_joint_action(neighbors) #傳回代理人j附近代理人的聯合動作\n",
        "#   q_values = Q(state, joint_action) #給定狀態與鄰居的聯合動作，取得代理人j的動作Q值\n",
        "#   j.action = policy(q_values) #接受各動作的Q值後，傳回一個離散動作\n",
        "#   environment.take_action(j.action)\n",
        "#   reward = environment.get_reward()"
      ],
      "execution_count": null,
      "outputs": []
    },
    {
      "cell_type": "markdown",
      "metadata": {
        "id": "OA7aiUdybV1X"
      },
      "source": [
        "# 程式 9.2 （虛擬碼）"
      ]
    },
    {
      "cell_type": "code",
      "metadata": {
        "id": "I_u7c47PcQvp"
      },
      "source": [
        "# 初始化所有代理人的動作\n",
        "\n",
        "# for m in range(M): #重複計算M次，以降低最初的隨機性\n",
        "#   for j in agents:\n",
        "#     state = environment.get_state()\n",
        "#     neighbors = get_neighbors(j, num=3) #找出離代理人j最近的3個鄰居\n",
        "#     joint_actions = get_joint_action(neighbors) #建立鄰居的聯合動作空間\n",
        "#     q_values = Q(state, joint_actions) #根據鄰居的聯合動作空間及當前狀態，計算各動作Q值\n",
        "#     j.action = policy(q_values) #選擇動作\n",
        "\n",
        "# for j in agents: #走訪每位代理人，執行在以上迴圈中最後一輪所計算出的動作\n",
        "#   environment.take_action(j.action)\n",
        "#   reward = environment.get_reward()"
      ],
      "execution_count": null,
      "outputs": []
    },
    {
      "cell_type": "code",
      "metadata": {
        "colab": {
          "base_uri": "https://localhost:8080/"
        },
        "id": "GdM1JMV4OPwG",
        "outputId": "5907fe28-af20-4b11-ee4a-979ac49ceb4c"
      },
      "source": [
        "import torch\r\n",
        "a = torch.Tensor([1,0,0,0])#創建向量a\r\n",
        "print(a.shape)\r\n",
        "b = a.reshape(4,1) #將向量a reshape成矩陣b\r\n",
        "print(b.shape)"
      ],
      "execution_count": null,
      "outputs": [
        {
          "output_type": "stream",
          "text": [
            "torch.Size([4])\n",
            "torch.Size([4, 1])\n"
          ],
          "name": "stdout"
        }
      ]
    },
    {
      "cell_type": "code",
      "metadata": {
        "id": "9j24MAN9dFp4",
        "colab": {
          "base_uri": "https://localhost:8080/"
        },
        "outputId": "82d7a930-fd7a-4209-d320-657064e69074"
      },
      "source": [
        " import numpy as np\n",
        " np.array([[0,0,0,1]]).T @ np.array([[0,1,0,0]]) #用T（）對numpy陣列進行轉置"
      ],
      "execution_count": null,
      "outputs": [
        {
          "output_type": "execute_result",
          "data": {
            "text/plain": [
              "array([[0, 0, 0, 0],\n",
              "       [0, 0, 0, 0],\n",
              "       [0, 0, 0, 0],\n",
              "       [0, 1, 0, 0]])"
            ]
          },
          "metadata": {
            "tags": []
          },
          "execution_count": 4
        }
      ]
    },
    {
      "cell_type": "code",
      "metadata": {
        "id": "iP_k0X-8hKEJ",
        "colab": {
          "base_uri": "https://localhost:8080/"
        },
        "outputId": "bdffd493-b26f-423e-cbb1-b36a8ccecb63"
      },
      "source": [
        "z = np.array([[0,0,0,1]]).T @ np.array([[0,1,0,0]])\n",
        "z.flatten() #使用flatten()將矩陣z扁平化成向量"
      ],
      "execution_count": null,
      "outputs": [
        {
          "output_type": "execute_result",
          "data": {
            "text/plain": [
              "array([0, 0, 0, 0, 0, 0, 0, 0, 0, 0, 0, 0, 0, 1, 0, 0])"
            ]
          },
          "metadata": {
            "tags": []
          },
          "execution_count": 5
        }
      ]
    },
    {
      "cell_type": "markdown",
      "metadata": {
        "id": "3Z-LDwbVvCJ-"
      },
      "source": [
        "# 程式 9.3： （1D Ising模型）產生格狀結構與回饋值"
      ]
    },
    {
      "cell_type": "code",
      "metadata": {
        "id": "6Nzyz6BhvD4o"
      },
      "source": [
        "import numpy as np\n",
        "import torch\n",
        "from matplotlib import pyplot as plt\n",
        "\n",
        "def init_grid(size=(10,)): \n",
        "  grid = torch.randn(*size) #產生長度為10的1D Ising模型（每個元素為一個隨機數）\n",
        "  grid[grid > 0] = 1  #若元素值大於0，則將該元素設為1（代表向上自旋）\n",
        "  grid[grid <= 0] = 0 #若元素值小於/等於0，則將該元素設為0（代表向下自旋）\n",
        "  grid = grid.byte() #將浮點數轉換成位元組（byte）物件，使其變成二元數\n",
        "  return grid\n",
        "\n",
        "def get_reward(s,a): #s是某個代理人a的鄰居串列\n",
        "  r = -1 #初始化回饋值為-1\n",
        "  for i in s:\n",
        "    if i == a: #如果陣列s中的值（自旋方向）與a的自旋方向相同，則回饋值+0.9\n",
        "      r += 0.9\n",
        "  return r"
      ],
      "execution_count": null,
      "outputs": []
    },
    {
      "cell_type": "code",
      "metadata": {
        "id": "G4cpzxS3xXbS",
        "colab": {
          "base_uri": "https://localhost:8080/"
        },
        "outputId": "6cb60e72-b6c3-4ca0-c74d-96162eb54dc5"
      },
      "source": [
        "size = (20,)\n",
        "grid = init_grid(size=size) #初始化一個長度為20的方格\n",
        "grid"
      ],
      "execution_count": null,
      "outputs": [
        {
          "output_type": "execute_result",
          "data": {
            "text/plain": [
              "tensor([1, 0, 1, 0, 0, 1, 0, 1, 1, 0, 0, 1, 1, 1, 0, 1, 1, 1, 1, 0],\n",
              "       dtype=torch.uint8)"
            ]
          },
          "metadata": {
            "tags": []
          },
          "execution_count": 7
        }
      ]
    },
    {
      "cell_type": "code",
      "metadata": {
        "id": "0HEhItdxxdng",
        "colab": {
          "base_uri": "https://localhost:8080/",
          "height": 87
        },
        "outputId": "ed25b41a-aebd-4d38-9c98-b11ac97547b0"
      },
      "source": [
        "plt.imshow(np.expand_dims(grid,0))"
      ],
      "execution_count": null,
      "outputs": [
        {
          "output_type": "execute_result",
          "data": {
            "text/plain": [
              "<matplotlib.image.AxesImage at 0x7f064ee45d10>"
            ]
          },
          "metadata": {
            "tags": []
          },
          "execution_count": 8
        },
        {
          "output_type": "display_data",
          "data": {
            "image/png": "[encoded data removed]",
            "text/plain": [
              "<Figure size 432x288 with 1 Axes>"
            ]
          },
          "metadata": {
            "tags": [],
            "needs_background": "light"
          }
        }
      ]
    },
    {
      "cell_type": "markdown",
      "metadata": {
        "id": "PDCveExuAvwt"
      },
      "source": [
        "# 程式 9.4： （1D Ising模型）產生神經網路的參數"
      ]
    },
    {
      "cell_type": "code",
      "metadata": {
        "id": "z_b-ymD1AzDf"
      },
      "source": [
        "def gen_params(N,size): #N代表代理人數目，size代表一個代理人的神經網路參數數量\n",
        "  ret = [] #編註：這裡的ret和前面幾章的回報（Return）是不同的東西，讀者不要搞混了\n",
        "  for i in range(N):\n",
        "    vec = torch.randn(size) / 10.\n",
        "    vec.requires_grad = True\n",
        "    ret.append(vec) #將第i個代理人的神經網路參數存進ret\n",
        "  return ret #傳回所有代理人的網路參數"
      ],
      "execution_count": null,
      "outputs": []
    },
    {
      "cell_type": "markdown",
      "metadata": {
        "id": "s0JXjqvpGJ5F"
      },
      "source": [
        "# 程式 9.5：（1D Ising模型）定義Q函數"
      ]
    },
    {
      "cell_type": "code",
      "metadata": {
        "id": "sqc_8gZ_GIt2"
      },
      "source": [
        "def qfunc(s,theta,layers=[(4,20),(20,2)],afn=torch.tanh):\n",
        "  l1n = layers[0] #取出第一層神經層的shape\n",
        "  l1s = np.prod(l1n) #取layers中的第一個tuple，再將其中的數字相乘，得到第一層神經層的參數數量\n",
        "  theta_1 = theta[0:l1s].reshape(l1n) #將theta向量的子集轉換成矩陣，做為第一層神經層的參數矩陣\n",
        "  l2n = layers[1]\n",
        "  l2s = np.prod(l2n)\n",
        "  theta_2 = theta[l1s:l2s+l1s].reshape(l2n)\n",
        "  bias = torch.ones((1,theta_1.shape[1])) # 加上一個偏值的張量 \n",
        "  l1 = s @ theta_1 + bias #此為第一層神經層所執行的計算，s是shape為(4,1)的聯合動作向量\n",
        "  l1 = torch.nn.functional.elu(l1)\n",
        "  l2 = afn(l1 @ theta_2) #採用tanh做為激活函數，將輸出值限制在[-1,1]\n",
        "  return l2.flatten() #傳回扁平化後的l2"
      ],
      "execution_count": null,
      "outputs": []
    },
    {
      "cell_type": "markdown",
      "metadata": {
        "id": "hBm_3XIhNfcK"
      },
      "source": [
        "# 程式 9.6： （1D Ising模型）取得環境的狀態"
      ]
    },
    {
      "cell_type": "code",
      "metadata": {
        "id": "5ZQRlXQsNh-j"
      },
      "source": [
        "def get_substate(b): #將一個二元數字轉換為one-hot編碼的動作向量，如[0,1]\n",
        "  s = torch.zeros(2) #將動作向量s初始化為[0,0]\n",
        "  if b != 0: #若輸入不等於0，則動作向量為[0,1]（向上），否則動作向量為[1,0]（向下）\n",
        "    s[1] = 1\n",
        "  else:\n",
        "    s[0] = 1\n",
        "  return s\n",
        "\n",
        "def joint_state(n): #n為具有兩個元素的向量，其中，n[0]=左方鄰居，n[1]=右方鄰居\n",
        "  n1_ = get_substate(n[0]) #取得左右鄰居的one-hot動作向量\n",
        "  n2_ = get_substate(n[1])\n",
        "  ret = (n1_.reshape(2,1) @ n2_.reshape(1,2)).flatten() #使用外積@產生聯合動作向量，並把結果扁平化為向量\n",
        "  return ret"
      ],
      "execution_count": null,
      "outputs": []
    },
    {
      "cell_type": "markdown",
      "metadata": {
        "id": "AQ8FDYetQUAP"
      },
      "source": [
        "# 程式 9.7： （1D Ising模型）初始化方格"
      ]
    },
    {
      "cell_type": "code",
      "metadata": {
        "id": "3ULNpIJ3QXci",
        "colab": {
          "base_uri": "https://localhost:8080/",
          "height": 127
        },
        "outputId": "4035ad87-d856-4b37-e67f-36914cc67714"
      },
      "source": [
        "plt.figure(figsize=(8,5))\n",
        "size = (20,) #將方格的大小設定為長度20的向量（20個代理人）\n",
        "hid_layer = 20 #設定隱藏層的寬度，由於我們的Q函數只有兩層（不包含輸入層），故隱藏層只會有一層\n",
        "params = gen_params(size[0],4*hid_layer+hid_layer*2) #產生20個代理人的參數向量\n",
        "grid = init_grid(size=size)\n",
        "grid_ = grid.clone() #將方格複製一份（在程式9.8時會用到）\n",
        "print(grid)\n",
        "plt.imshow(np.expand_dims(grid,0))"
      ],
      "execution_count": null,
      "outputs": [
        {
          "output_type": "stream",
          "text": [
            "tensor([1, 1, 1, 0, 0, 1, 1, 0, 1, 0, 0, 0, 0, 1, 1, 0, 0, 1, 0, 0],\n",
            "       dtype=torch.uint8)\n"
          ],
          "name": "stdout"
        },
        {
          "output_type": "execute_result",
          "data": {
            "text/plain": [
              "<matplotlib.image.AxesImage at 0x7f064e933950>"
            ]
          },
          "metadata": {
            "tags": []
          },
          "execution_count": 12
        },
        {
          "output_type": "display_data",
          "data": {
            "image/png": "[encoded data removed]",
            "text/plain": [
              "<Figure size 576x360 with 1 Axes>"
            ]
          },
          "metadata": {
            "tags": [],
            "needs_background": "light"
          }
        }
      ]
    },
    {
      "cell_type": "markdown",
      "metadata": {
        "id": "WupA3hWOXMXi"
      },
      "source": [
        "# 程式 9.8：（1D Ising模型）訓練迴圈"
      ]
    },
    {
      "cell_type": "code",
      "metadata": {
        "id": "vFC0gSSWXN11"
      },
      "source": [
        "epochs = 200\n",
        "lr = 0.001 #學習率\n",
        "losses = [[] for i in range(size[0])] #儲存每個代理人的損失串列\n",
        "for i in range(epochs):\n",
        "  for j in range(size[0]): #走訪每一位代理人\n",
        "    l = j - 1 if j - 1 >= 0 else size[0]-1 #取得左方鄰居的資料(若代理人位於模型最左端，則左方鄰居為模型最右端的代理人)\n",
        "    r = j + 1 if j + 1 < size[0] else 0 #取得右方鄰居的資料（若代理人位於模型最右端，則右方鄰居為模型最左端的代理人）\n",
        "    state_ = grid[[l,r]] #state_由兩個二元數字組成，分別代表左右鄰居的自旋方向\n",
        "    state = joint_state(state_) #state_中包含兩位代理人的二元動作向量，將此向量轉換為one-hot聯合動作向量\n",
        "    qvals = qfunc(state.float().detach(),params[j], layers=[(4,hid_layer) , (hid_layer,2)])\n",
        "    qmax = torch.argmax(qvals,dim=0).detach().item() #此處的策略是執行Q值最高的動作\n",
        "    action = int(qmax)\n",
        "    grid_[j] = action #我們在程式9.7複製的方格grid_中執行動作，當所有代理人都執行完動作後，才將grid_的最新結果複製給主要方格grid\n",
        "    reward = get_reward(state_.detach(),action)\n",
        "    with torch.no_grad(): #{3}將原本的Q值向量複製一份，將與執行動作有關的Q值替換成實際回饋值後，當成目標Q值向量\n",
        "      target = qvals.clone()\n",
        "      target[action] = reward\n",
        "    loss = torch.sum(torch.pow(qvals - target,2))\n",
        "    losses[j].append(loss.detach().numpy())\n",
        "    loss.backward()\n",
        "    with torch.no_grad(): #手動進行梯度下降\n",
        "      params[j] = params[j] - lr * params[j].grad\n",
        "    params[j].requires_grad = True\n",
        "  with torch.no_grad(): #將grid_中的暫存資料複製到grid向量中\n",
        "    grid.data = grid_.data"
      ],
      "execution_count": null,
      "outputs": []
    },
    {
      "cell_type": "code",
      "metadata": {
        "id": "sotC-ZKyd1Y5",
        "colab": {
          "base_uri": "https://localhost:8080/",
          "height": 753
        },
        "outputId": "a8f721a3-3e09-47c8-b43e-b683375b2eae"
      },
      "source": [
        "fig,ax = plt.subplots(2,1,figsize=(15,15))\n",
        "for i in range(size[0]):\n",
        "  ax[0].scatter(np.arange(len(losses[i])),losses[i])\n",
        "ax[0].set_xlabel(\"Epochs\",fontsize=15)\n",
        "ax[0].set_ylabel(\"Loss\",fontsize=15)\n",
        "print(grid,grid.sum())\n",
        "ax[1].imshow(np.expand_dims(grid,0))"
      ],
      "execution_count": null,
      "outputs": [
        {
          "output_type": "stream",
          "text": [
            "tensor([1, 0, 0, 1, 1, 1, 1, 1, 1, 1, 1, 1, 0, 1, 1, 1, 1, 1, 1, 1],\n",
            "       dtype=torch.uint8) tensor(17)\n"
          ],
          "name": "stdout"
        },
        {
          "output_type": "execute_result",
          "data": {
            "text/plain": [
              "<matplotlib.image.AxesImage at 0x7f064e8e5310>"
            ]
          },
          "metadata": {
            "tags": []
          },
          "execution_count": 14
        },
        {
          "output_type": "display_data",
          "data": {
            "image/png": "[encoded data removed]",
            "text/plain": [
              "<Figure size 1080x1080 with 2 Axes>"
            ]
          },
          "metadata": {
            "tags": [],
            "needs_background": "light"
          }
        }
      ]
    },
    {
      "cell_type": "markdown",
      "metadata": {
        "id": "TcOvJ-L_HOmb"
      },
      "source": [
        "# 程式 9.9： （平均場Q-Learning) 策略函數"
      ]
    },
    {
      "cell_type": "code",
      "metadata": {
        "id": "Ws4JJVrVHNZP"
      },
      "source": [
        "from collections import deque \n",
        "from random import shuffle \n",
        "\n",
        "def softmax_policy(qvals,temp=0.9): #此策略函數會接受Q值向量，並傳回一特定動作\n",
        "  soft = torch.exp(qvals/temp) / torch.sum(torch.exp(qvals/temp)) #softmax函數的定義\n",
        "  action = torch.multinomial(soft,1) #依據動作的機率分佈來隨機抽選一個動作\n",
        "  return action"
      ],
      "execution_count": null,
      "outputs": []
    },
    {
      "cell_type": "markdown",
      "metadata": {
        "id": "-Dd1cTYOGz0o"
      },
      "source": [
        "# 程式 9.10：（平均場Q-Learning）傳回座標與回饋值的函式"
      ]
    },
    {
      "cell_type": "code",
      "metadata": {
        "id": "QcrjB2F1G3Tg"
      },
      "source": [
        "def get_coords(grid,j): #從方格中取得索引值，並推算原始的[x,y]座標，j為代理人的索引\n",
        "  x = int(np.floor(j / grid.shape[0])) #找出x座標，grid.shape[0]為方2D方格的邊長\n",
        "  y = int(j - x * grid.shape[0]) #找出y座標\n",
        "  return x,y\n",
        "\n",
        "def get_reward_2d(action,action_mean): #2D方格的回饋值函式\n",
        "  r = (action*(action_mean-action/2)).sum()/action.sum() #根據代理人動作和平均場動作之間的差異，計算回饋值\n",
        "  return torch.tanh(5 * r) #使用tanh將回饋值的範圍轉換成[-1,1]"
      ],
      "execution_count": null,
      "outputs": []
    },
    {
      "cell_type": "code",
      "metadata": {
        "id": "fY5TyxrdI_Su",
        "colab": {
          "base_uri": "https://localhost:8080/"
        },
        "outputId": "907b0e30-bcdf-4850-fc76-93577bb80a99"
      },
      "source": [
        "get_reward_2d(torch.Tensor([1,0]),torch.Tensor([0.25, 0.75]))"
      ],
      "execution_count": null,
      "outputs": [
        {
          "output_type": "execute_result",
          "data": {
            "text/plain": [
              "tensor(-0.8483)"
            ]
          },
          "metadata": {
            "tags": []
          },
          "execution_count": 17
        }
      ]
    },
    {
      "cell_type": "code",
      "metadata": {
        "id": "O3FDYSYfJCir",
        "colab": {
          "base_uri": "https://localhost:8080/"
        },
        "outputId": "2222433b-aa75-4505-9ffa-e0fe28ae6c19"
      },
      "source": [
        "get_reward_2d(torch.Tensor([0,1]),torch.Tensor([0.25, 0.75]))"
      ],
      "execution_count": null,
      "outputs": [
        {
          "output_type": "execute_result",
          "data": {
            "text/plain": [
              "tensor(0.8483)"
            ]
          },
          "metadata": {
            "tags": []
          },
          "execution_count": 18
        }
      ]
    },
    {
      "cell_type": "markdown",
      "metadata": {
        "id": "yL8U41gyKSKR"
      },
      "source": [
        "# 程式 9.11：（平均場Q-Learning）計算平均動作向量"
      ]
    },
    {
      "cell_type": "code",
      "metadata": {
        "id": "PCeDR6miKUOs"
      },
      "source": [
        "def mean_action(grid,j):\n",
        "  x,y = get_coords(grid,j) #將向量的索引j變回座標[x,y]，其中[0,0]代表方格的左上角\n",
        "  action_mean = torch.zeros(2) \n",
        "  for i in [-1,0,1]: #設定鄰居在x方向及y方向上與代理人j的距離範圍\n",
        "    for k in [-1,0,1]:\n",
        "      if i == k == 0: #若x方向及y方向的距離皆為0，則代表代理人j自己，直接跳過\n",
        "        continue\n",
        "      x_,y_ = x + i, y + k #該鄰居的x座標為代理人的x座標+i；y座標為代理人j的y座標+k\n",
        "      x_ = x_ if x_ >= 0 else grid.shape[0] - 1 #計算鄰居的座標，把代理人j位於角落時的狀況考慮進去，對其鄰居座標加以處理\n",
        "      y_ = y_ if y_ >= 0 else grid.shape[1] - 1\n",
        "      x_ = x_ if x_ <  grid.shape[0] else 0\n",
        "      y_ = y_ if y_ < grid.shape[1] else 0\n",
        "      cur_n = grid[x_,y_] #將鄰居的自旋方向存進cur_n\n",
        "      s = get_substate(cur_n) #利用鄰居的座標取得其動作向量\n",
        "      action_mean += s\n",
        "  action_mean /= action_mean.sum() #將動作向量正規化，形成各動作的機率分佈\n",
        "  return action_mean"
      ],
      "execution_count": null,
      "outputs": []
    },
    {
      "cell_type": "code",
      "metadata": {
        "id": "m9-YpdUxMcUw",
        "colab": {
          "base_uri": "https://localhost:8080/",
          "height": 283
        },
        "outputId": "ebb9928c-7c24-4a91-c3f7-66912b1de5f1"
      },
      "source": [
        "size = (10,10) #設定方格板的大小為10×10\n",
        "J = np.prod(size) #計算代理人總數\n",
        "hid_layer = 10\n",
        "layers = [(2,hid_layer),(hid_layer,2)] #兩個神經層的shape\n",
        "params = gen_params(1,2*hid_layer+hid_layer*2) #產生參數向量\n",
        "grid = init_grid(size=size)\n",
        "grid_ = grid.clone()\n",
        "grid__ = grid.clone()\n",
        "plt.imshow(grid) #畫出隨機初始化的2D Ising模型"
      ],
      "execution_count": null,
      "outputs": [
        {
          "output_type": "execute_result",
          "data": {
            "text/plain": [
              "<matplotlib.image.AxesImage at 0x7f0645ffc8d0>"
            ]
          },
          "metadata": {
            "tags": []
          },
          "execution_count": 20
        },
        {
          "output_type": "display_data",
          "data": {
            "image/png": "[encoded data removed]",
            "text/plain": [
              "<Figure size 432x288 with 1 Axes>"
            ]
          },
          "metadata": {
            "tags": [],
            "needs_background": "light"
          }
        }
      ]
    },
    {
      "cell_type": "markdown",
      "metadata": {
        "id": "e6MJynSvTIMl"
      },
      "source": [
        "# 程式 9.12：（平均場Q-Learning）主要訓練迴圈"
      ]
    },
    {
      "cell_type": "code",
      "metadata": {
        "id": "nciqQGoPTHqE"
      },
      "source": [
        "epochs = 75\n",
        "lr = 0.0001\n",
        "num_iter = 3 #重複計算的次數（為了消除初始平均場動作的隨機性）\n",
        "replay_size = 50 #經驗池中的經驗資料總數\n",
        "replay = deque(maxlen=replay_size) #經驗池的資料型態為deque \n",
        "batch_size = 10 #將小批次量設為10，代表我們會隨機從經驗池中選取10筆資料來進行訓練\n",
        "gamma = 0.9 #削減因子\n",
        "losses = [[] for i in range(J)] #儲存每位代理人的損失串列\n",
        "\n",
        "for i in range(epochs): \n",
        "  act_means = torch.zeros((J,2)) #初始化用來儲存平均場動作的張量\n",
        "  q_next = torch.zeros(J) #儲存新狀態Q值的張量\n",
        "  for m in range(num_iter): \n",
        "    for j in range(J): #走訪方格中的所有代理人\n",
        "      action_mean = mean_action(grid_,j).detach()\n",
        "      act_means[j] = action_mean.clone() #將代理人的平均場向量存進act_means\n",
        "      qvals = qfunc(action_mean.detach(),params[0],layers=layers)\n",
        "      action = softmax_policy(qvals.detach(),temp=0.5)\n",
        "      grid__[get_coords(grid_,j)] = action\n",
        "      q_next[j] = torch.max(qvals).detach()\n",
        "    grid_.data = grid__.data\n",
        "  grid.data = grid_.data\n",
        "  actions = torch.stack([get_substate(a.item()) for a in grid.flatten()])\n",
        "  rewards = torch.stack([get_reward_2d(actions[j],act_means[j]) for j in range(J)])\n",
        "  exp = (actions,rewards,act_means,q_next) #{2}搜集經驗資料，並儲存到經驗池中\n",
        "  replay.append(exp)\n",
        "  shuffle(replay) #將經驗池內的經驗進行洗牌\n",
        "  if len(replay) > batch_size: #當經驗池中的資料大於批次量參數（batch_size）時，啟動訓練程序\n",
        "    ids = np.random.randint(low=0,high=len(replay),size=batch_size) #產生一系列隨機索引值\n",
        "    exps = [replay[idx] for idx in ids] #利用隨機索引值從經驗池中抽取訓練批次\n",
        "    for j in range(J):\n",
        "      jacts = torch.stack([ex[0][j] for ex in exps]).detach()\n",
        "      jrewards = torch.stack([ex[1][j] for ex in exps]).detach()\n",
        "      jmeans = torch.stack([ex[2][j] for ex in exps]).detach()\n",
        "      vs = torch.stack([ex[3][j] for ex in exps]).detach()\n",
        "      qvals = torch.stack([ qfunc(jmeans[h].detach(),params[0],layers=layers) for h in range(batch_size)])\n",
        "      target = qvals.clone().detach()\n",
        "      target[:,torch.argmax(jacts,dim=1)] = jrewards + gamma * vs\n",
        "      loss = torch.sum(torch.pow(qvals - target.detach(),2))\n",
        "      losses[j].append(loss.item())\n",
        "      loss.backward()\n",
        "      with torch.no_grad():\n",
        "        params[0] = params[0] - lr * params[0].grad\n",
        "      params[0].requires_grad = True"
      ],
      "execution_count": null,
      "outputs": []
    },
    {
      "cell_type": "code",
      "metadata": {
        "id": "tIUMkRODU7vA",
        "colab": {
          "base_uri": "https://localhost:8080/",
          "height": 625
        },
        "outputId": "640cb0ed-3d2b-4b80-be48-e6959d860dd6"
      },
      "source": [
        "fig,ax = plt.subplots(2,1)\n",
        "fig.set_size_inches(10,10) \n",
        "ax[0].plot(np.array(losses).mean(axis=0))\n",
        "ax[0].title.set_text('DQN Loss')\n",
        "ax[0].set_xlabel(\"Epochs\",fontsize=11)\n",
        "ax[0].set_ylabel(\"Loss\",fontsize=11)\n",
        "ax[1].imshow(grid)"
      ],
      "execution_count": null,
      "outputs": [
        {
          "output_type": "execute_result",
          "data": {
            "text/plain": [
              "<matplotlib.image.AxesImage at 0x7f0646183390>"
            ]
          },
          "metadata": {
            "tags": []
          },
          "execution_count": 22
        },
        {
          "output_type": "display_data",
          "data": {
            "image/png": "[encoded data removed]",
            "text/plain": [
              "<Figure size 720x720 with 2 Axes>"
            ]
          },
          "metadata": {
            "tags": [],
            "needs_background": "light"
          }
        }
      ]
    },
    {
      "cell_type": "code",
      "metadata": {
        "id": "qsAdjcauaNAk",
        "colab": {
          "base_uri": "https://localhost:8080/"
        },
        "outputId": "42e194c6-7bff-4a3e-eee8-ac378b56a5e6"
      },
      "source": [
        "pip install magent"
      ],
      "execution_count": null,
      "outputs": [
        {
          "output_type": "stream",
          "text": [
            "Collecting magent\n",
            "\u001b[?25l  Downloading https://files.pythonhosted.org/packages/29/f2/312d5a5a593348c5d8f42bf939e7e5ff25bb70d3f8606c19fa88915ecd2f/magent-0.1.13-cp37-cp37m-manylinux2010_x86_64.whl (1.7MB)\n",
            "\r\u001b[K     |▏                               | 10kB 20.7MB/s eta 0:00:01\r\u001b[K     |▍                               | 20kB 26.7MB/s eta 0:00:01\r\u001b[K     |▋                               | 30kB 30.7MB/s eta 0:00:01\r\u001b[K     |▊                               | 40kB 34.7MB/s eta 0:00:01\r\u001b[K     |█                               | 51kB 36.8MB/s eta 0:00:01\r\u001b[K     |█▏                              | 61kB 39.3MB/s eta 0:00:01\r\u001b[K     |█▍                              | 71kB 22.7MB/s eta 0:00:01\r\u001b[K     |█▌                              | 81kB 21.3MB/s eta 0:00:01\r\u001b[K     |█▊                              | 92kB 21.2MB/s eta 0:00:01\r\u001b[K     |██                              | 102kB 22.6MB/s eta 0:00:01\r\u001b[K     |██▏                             | 112kB 22.6MB/s eta 0:00:01\r\u001b[K     |██▎                             | 122kB 22.6MB/s eta 0:00:01\r\u001b[K     |██▌                             | 133kB 22.6MB/s eta 0:00:01\r\u001b[K     |██▊                             | 143kB 22.6MB/s eta 0:00:01\r\u001b[K     |███                             | 153kB 22.6MB/s eta 0:00:01\r\u001b[K     |███                             | 163kB 22.6MB/s eta 0:00:01\r\u001b[K     |███▎                            | 174kB 22.6MB/s eta 0:00:01\r\u001b[K     |███▌                            | 184kB 22.6MB/s eta 0:00:01\r\u001b[K     |███▊                            | 194kB 22.6MB/s eta 0:00:01\r\u001b[K     |███▉                            | 204kB 22.6MB/s eta 0:00:01\r\u001b[K     |████                            | 215kB 22.6MB/s eta 0:00:01\r\u001b[K     |████▎                           | 225kB 22.6MB/s eta 0:00:01\r\u001b[K     |████▌                           | 235kB 22.6MB/s eta 0:00:01\r\u001b[K     |████▋                           | 245kB 22.6MB/s eta 0:00:01\r\u001b[K     |████▉                           | 256kB 22.6MB/s eta 0:00:01\r\u001b[K     |█████                           | 266kB 22.6MB/s eta 0:00:01\r\u001b[K     |█████▎                          | 276kB 22.6MB/s eta 0:00:01\r\u001b[K     |█████▍                          | 286kB 22.6MB/s eta 0:00:01\r\u001b[K     |█████▋                          | 296kB 22.6MB/s eta 0:00:01\r\u001b[K     |█████▉                          | 307kB 22.6MB/s eta 0:00:01\r\u001b[K     |██████                          | 317kB 22.6MB/s eta 0:00:01\r\u001b[K     |██████▏                         | 327kB 22.6MB/s eta 0:00:01\r\u001b[K     |██████▍                         | 337kB 22.6MB/s eta 0:00:01\r\u001b[K     |██████▋                         | 348kB 22.6MB/s eta 0:00:01\r\u001b[K     |██████▊                         | 358kB 22.6MB/s eta 0:00:01\r\u001b[K     |███████                         | 368kB 22.6MB/s eta 0:00:01\r\u001b[K     |███████▏                        | 378kB 22.6MB/s eta 0:00:01\r\u001b[K     |███████▍                        | 389kB 22.6MB/s eta 0:00:01\r\u001b[K     |███████▌                        | 399kB 22.6MB/s eta 0:00:01\r\u001b[K     |███████▊                        | 409kB 22.6MB/s eta 0:00:01\r\u001b[K     |████████                        | 419kB 22.6MB/s eta 0:00:01\r\u001b[K     |████████▏                       | 430kB 22.6MB/s eta 0:00:01\r\u001b[K     |████████▎                       | 440kB 22.6MB/s eta 0:00:01\r\u001b[K     |████████▌                       | 450kB 22.6MB/s eta 0:00:01\r\u001b[K     |████████▊                       | 460kB 22.6MB/s eta 0:00:01\r\u001b[K     |█████████                       | 471kB 22.6MB/s eta 0:00:01\r\u001b[K     |█████████                       | 481kB 22.6MB/s eta 0:00:01\r\u001b[K     |█████████▎                      | 491kB 22.6MB/s eta 0:00:01\r\u001b[K     |█████████▌                      | 501kB 22.6MB/s eta 0:00:01\r\u001b[K     |█████████▊                      | 512kB 22.6MB/s eta 0:00:01\r\u001b[K     |█████████▉                      | 522kB 22.6MB/s eta 0:00:01\r\u001b[K     |██████████                      | 532kB 22.6MB/s eta 0:00:01\r\u001b[K     |██████████▎                     | 542kB 22.6MB/s eta 0:00:01\r\u001b[K     |██████████▌                     | 552kB 22.6MB/s eta 0:00:01\r\u001b[K     |██████████▋                     | 563kB 22.6MB/s eta 0:00:01\r\u001b[K     |██████████▉                     | 573kB 22.6MB/s eta 0:00:01\r\u001b[K     |███████████                     | 583kB 22.6MB/s eta 0:00:01\r\u001b[K     |███████████▎                    | 593kB 22.6MB/s eta 0:00:01\r\u001b[K     |███████████▍                    | 604kB 22.6MB/s eta 0:00:01\r\u001b[K     |███████████▋                    | 614kB 22.6MB/s eta 0:00:01\r\u001b[K     |███████████▉                    | 624kB 22.6MB/s eta 0:00:01\r\u001b[K     |████████████                    | 634kB 22.6MB/s eta 0:00:01\r\u001b[K     |████████████▏                   | 645kB 22.6MB/s eta 0:00:01\r\u001b[K     |████████████▍                   | 655kB 22.6MB/s eta 0:00:01\r\u001b[K     |████████████▋                   | 665kB 22.6MB/s eta 0:00:01\r\u001b[K     |████████████▊                   | 675kB 22.6MB/s eta 0:00:01\r\u001b[K     |█████████████                   | 686kB 22.6MB/s eta 0:00:01\r\u001b[K     |█████████████▏                  | 696kB 22.6MB/s eta 0:00:01\r\u001b[K     |█████████████▍                  | 706kB 22.6MB/s eta 0:00:01\r\u001b[K     |█████████████▌                  | 716kB 22.6MB/s eta 0:00:01\r\u001b[K     |█████████████▊                  | 727kB 22.6MB/s eta 0:00:01\r\u001b[K     |██████████████                  | 737kB 22.6MB/s eta 0:00:01\r\u001b[K     |██████████████▏                 | 747kB 22.6MB/s eta 0:00:01\r\u001b[K     |██████████████▎                 | 757kB 22.6MB/s eta 0:00:01\r\u001b[K     |██████████████▌                 | 768kB 22.6MB/s eta 0:00:01\r\u001b[K     |██████████████▊                 | 778kB 22.6MB/s eta 0:00:01\r\u001b[K     |███████████████                 | 788kB 22.6MB/s eta 0:00:01\r\u001b[K     |███████████████                 | 798kB 22.6MB/s eta 0:00:01\r\u001b[K     |███████████████▎                | 808kB 22.6MB/s eta 0:00:01\r\u001b[K     |███████████████▌                | 819kB 22.6MB/s eta 0:00:01\r\u001b[K     |███████████████▊                | 829kB 22.6MB/s eta 0:00:01\r\u001b[K     |███████████████▉                | 839kB 22.6MB/s eta 0:00:01\r\u001b[K     |████████████████                | 849kB 22.6MB/s eta 0:00:01\r\u001b[K     |████████████████▎               | 860kB 22.6MB/s eta 0:00:01\r\u001b[K     |████████████████▌               | 870kB 22.6MB/s eta 0:00:01\r\u001b[K     |████████████████▋               | 880kB 22.6MB/s eta 0:00:01\r\u001b[K     |████████████████▉               | 890kB 22.6MB/s eta 0:00:01\r\u001b[K     |█████████████████               | 901kB 22.6MB/s eta 0:00:01\r\u001b[K     |█████████████████▎              | 911kB 22.6MB/s eta 0:00:01\r\u001b[K     |█████████████████▍              | 921kB 22.6MB/s eta 0:00:01\r\u001b[K     |█████████████████▋              | 931kB 22.6MB/s eta 0:00:01\r\u001b[K     |█████████████████▉              | 942kB 22.6MB/s eta 0:00:01\r\u001b[K     |██████████████████              | 952kB 22.6MB/s eta 0:00:01\r\u001b[K     |██████████████████▏             | 962kB 22.6MB/s eta 0:00:01\r\u001b[K     |██████████████████▍             | 972kB 22.6MB/s eta 0:00:01\r\u001b[K     |██████████████████▋             | 983kB 22.6MB/s eta 0:00:01\r\u001b[K     |██████████████████▊             | 993kB 22.6MB/s eta 0:00:01\r\u001b[K     |███████████████████             | 1.0MB 22.6MB/s eta 0:00:01\r\u001b[K     |███████████████████▏            | 1.0MB 22.6MB/s eta 0:00:01\r\u001b[K     |███████████████████▍            | 1.0MB 22.6MB/s eta 0:00:01\r\u001b[K     |███████████████████▌            | 1.0MB 22.6MB/s eta 0:00:01\r\u001b[K     |███████████████████▊            | 1.0MB 22.6MB/s eta 0:00:01\r\u001b[K     |████████████████████            | 1.1MB 22.6MB/s eta 0:00:01\r\u001b[K     |████████████████████▏           | 1.1MB 22.6MB/s eta 0:00:01\r\u001b[K     |████████████████████▎           | 1.1MB 22.6MB/s eta 0:00:01\r\u001b[K     |████████████████████▌           | 1.1MB 22.6MB/s eta 0:00:01\r\u001b[K     |████████████████████▊           | 1.1MB 22.6MB/s eta 0:00:01\r\u001b[K     |█████████████████████           | 1.1MB 22.6MB/s eta 0:00:01\r\u001b[K     |█████████████████████           | 1.1MB 22.6MB/s eta 0:00:01\r\u001b[K     |█████████████████████▎          | 1.1MB 22.6MB/s eta 0:00:01\r\u001b[K     |█████████████████████▌          | 1.1MB 22.6MB/s eta 0:00:01\r\u001b[K     |█████████████████████▊          | 1.1MB 22.6MB/s eta 0:00:01\r\u001b[K     |█████████████████████▉          | 1.2MB 22.6MB/s eta 0:00:01\r\u001b[K     |██████████████████████          | 1.2MB 22.6MB/s eta 0:00:01\r\u001b[K     |██████████████████████▎         | 1.2MB 22.6MB/s eta 0:00:01\r\u001b[K     |██████████████████████▌         | 1.2MB 22.6MB/s eta 0:00:01\r\u001b[K     |██████████████████████▋         | 1.2MB 22.6MB/s eta 0:00:01\r\u001b[K     |██████████████████████▉         | 1.2MB 22.6MB/s eta 0:00:01\r\u001b[K     |███████████████████████         | 1.2MB 22.6MB/s eta 0:00:01\r\u001b[K     |███████████████████████▎        | 1.2MB 22.6MB/s eta 0:00:01\r\u001b[K     |███████████████████████▍        | 1.2MB 22.6MB/s eta 0:00:01\r\u001b[K     |███████████████████████▋        | 1.2MB 22.6MB/s eta 0:00:01\r\u001b[K     |███████████████████████▉        | 1.3MB 22.6MB/s eta 0:00:01\r\u001b[K     |████████████████████████        | 1.3MB 22.6MB/s eta 0:00:01\r\u001b[K     |████████████████████████▏       | 1.3MB 22.6MB/s eta 0:00:01\r\u001b[K     |████████████████████████▍       | 1.3MB 22.6MB/s eta 0:00:01\r\u001b[K     |████████████████████████▋       | 1.3MB 22.6MB/s eta 0:00:01\r\u001b[K     |████████████████████████▊       | 1.3MB 22.6MB/s eta 0:00:01\r\u001b[K     |█████████████████████████       | 1.3MB 22.6MB/s eta 0:00:01\r\u001b[K     |█████████████████████████▏      | 1.3MB 22.6MB/s eta 0:00:01\r\u001b[K     |█████████████████████████▍      | 1.3MB 22.6MB/s eta 0:00:01\r\u001b[K     |█████████████████████████▌      | 1.4MB 22.6MB/s eta 0:00:01\r\u001b[K     |█████████████████████████▊      | 1.4MB 22.6MB/s eta 0:00:01\r\u001b[K     |██████████████████████████      | 1.4MB 22.6MB/s eta 0:00:01\r\u001b[K     |██████████████████████████▏     | 1.4MB 22.6MB/s eta 0:00:01\r\u001b[K     |██████████████████████████▎     | 1.4MB 22.6MB/s eta 0:00:01\r\u001b[K     |██████████████████████████▌     | 1.4MB 22.6MB/s eta 0:00:01\r\u001b[K     |██████████████████████████▊     | 1.4MB 22.6MB/s eta 0:00:01\r\u001b[K     |███████████████████████████     | 1.4MB 22.6MB/s eta 0:00:01\r\u001b[K     |███████████████████████████     | 1.4MB 22.6MB/s eta 0:00:01\r\u001b[K     |███████████████████████████▎    | 1.4MB 22.6MB/s eta 0:00:01\r\u001b[K     |███████████████████████████▌    | 1.5MB 22.6MB/s eta 0:00:01\r\u001b[K     |███████████████████████████▊    | 1.5MB 22.6MB/s eta 0:00:01\r\u001b[K     |███████████████████████████▉    | 1.5MB 22.6MB/s eta 0:00:01\r\u001b[K     |████████████████████████████    | 1.5MB 22.6MB/s eta 0:00:01\r\u001b[K     |████████████████████████████▎   | 1.5MB 22.6MB/s eta 0:00:01\r\u001b[K     |████████████████████████████▌   | 1.5MB 22.6MB/s eta 0:00:01\r\u001b[K     |████████████████████████████▋   | 1.5MB 22.6MB/s eta 0:00:01\r\u001b[K     |████████████████████████████▉   | 1.5MB 22.6MB/s eta 0:00:01\r\u001b[K     |█████████████████████████████   | 1.5MB 22.6MB/s eta 0:00:01\r\u001b[K     |█████████████████████████████▎  | 1.5MB 22.6MB/s eta 0:00:01\r\u001b[K     |█████████████████████████████▍  | 1.6MB 22.6MB/s eta 0:00:01\r\u001b[K     |█████████████████████████████▋  | 1.6MB 22.6MB/s eta 0:00:01\r\u001b[K     |█████████████████████████████▉  | 1.6MB 22.6MB/s eta 0:00:01\r\u001b[K     |██████████████████████████████  | 1.6MB 22.6MB/s eta 0:00:01\r\u001b[K     |██████████████████████████████▏ | 1.6MB 22.6MB/s eta 0:00:01\r\u001b[K     |██████████████████████████████▍ | 1.6MB 22.6MB/s eta 0:00:01\r\u001b[K     |██████████████████████████████▋ | 1.6MB 22.6MB/s eta 0:00:01\r\u001b[K     |██████████████████████████████▊ | 1.6MB 22.6MB/s eta 0:00:01\r\u001b[K     |███████████████████████████████ | 1.6MB 22.6MB/s eta 0:00:01\r\u001b[K     |███████████████████████████████▏| 1.6MB 22.6MB/s eta 0:00:01\r\u001b[K     |███████████████████████████████▍| 1.7MB 22.6MB/s eta 0:00:01\r\u001b[K     |███████████████████████████████▌| 1.7MB 22.6MB/s eta 0:00:01\r\u001b[K     |███████████████████████████████▊| 1.7MB 22.6MB/s eta 0:00:01\r\u001b[K     |████████████████████████████████| 1.7MB 22.6MB/s eta 0:00:01\r\u001b[K     |████████████████████████████████| 1.7MB 22.6MB/s \n",
            "\u001b[?25hRequirement already satisfied: numpy>=1.18.0 in /usr/local/lib/python3.7/dist-packages (from magent) (1.19.5)\n",
            "Collecting pygame>=2.0.0.dev10\n",
            "\u001b[?25l  Downloading https://files.pythonhosted.org/packages/4b/9e/c400554dd1d0e562bd4379f35ad5023c68fc120003a58991405850f56f95/pygame-2.0.1-cp37-cp37m-manylinux1_x86_64.whl (11.8MB)\n",
            "\u001b[K     |████████████████████████████████| 11.8MB 48.3MB/s \n",
            "\u001b[?25hInstalling collected packages: pygame, magent\n",
            "Successfully installed magent-0.1.13 pygame-2.0.1\n"
          ],
          "name": "stdout"
        }
      ]
    },
    {
      "cell_type": "markdown",
      "metadata": {
        "id": "H9rYKG6Oa60Z"
      },
      "source": [
        "# 程式 9.13: 建立MAgent環境"
      ]
    },
    {
      "cell_type": "code",
      "metadata": {
        "id": "O0wXt2BTarbc"
      },
      "source": [
        "import magent\n",
        "import math\n",
        "from scipy.spatial.distance import cityblock \n",
        "\n",
        "map_size = 30\n",
        "env = magent.GridWorld(\"battle\", map_size=map_size) #將環境模式設定為『battle（對戰）』，並把Gridworld方格板的大小設為30 x 30\n",
        "team1, team2 = env.get_handles() #初始化兩個隊伍"
      ],
      "execution_count": null,
      "outputs": []
    },
    {
      "cell_type": "markdown",
      "metadata": {
        "id": "PMopXLn5a-cw"
      },
      "source": [
        "# 程式 9.14： 加入代理人"
      ]
    },
    {
      "cell_type": "code",
      "metadata": {
        "id": "HqrVm_ABa201"
      },
      "source": [
        "hid_layer = 25\n",
        "in_size = 359\n",
        "act_space = 21\n",
        "layers = [(in_size,hid_layer),(hid_layer,act_space)] #設定各神經層的shape參數\n",
        "params = gen_params(2,in_size*hid_layer+hid_layer*act_space) #產生兩個DQN模型的參數向量\n",
        "\n",
        "map_size = 30\n",
        "width = height = map_size\n",
        "n1 = n2 = 16 #將每個陣營的代理人數量設為16\n",
        "gap = 1 #設定代理人的初始間隔距離\n",
        "epochs = 1000\n",
        "replay_size = 70\n",
        "batch_size = 25\n",
        "side1 = int(math.sqrt(n1)) * 2\n",
        "pos1 = []\n",
        "for x in range(width//2 - gap - side1, width//2 - gap - side1 + side1, 2): #產生team1代理人（在方格板左半邊）的位置，//代表floor division\n",
        "  for y in range((height - side1)//2, (height - side1)//2 + side1, 2):\n",
        "    pos1.append([x, y, 0])\n",
        "\n",
        "side2 = int(math.sqrt(n2)) * 2\n",
        "pos2 = []\n",
        "for x in range(width//2 + gap, width//2 + gap + side2, 2): #產生team2代理人（在方格板右半邊）的位置\n",
        "  for y in range((height - side2)//2, (height - side2)//2 + side2, 2):\n",
        "    pos2.append([x, y, 0])\n",
        "        \n",
        "env.reset()\n",
        "env.add_agents(team1, method=\"custom\", pos=pos1) #根據之前產生的位置串列，將team1代理人加入到方格板上\n",
        "env.add_agents(team2, method=\"custom\", pos=pos2)"
      ],
      "execution_count": null,
      "outputs": []
    },
    {
      "cell_type": "code",
      "metadata": {
        "id": "itkyIP5xk-Rn",
        "colab": {
          "base_uri": "https://localhost:8080/",
          "height": 283
        },
        "outputId": "c6e54130-e549-4ed9-d7ac-1b7e7ca501e0"
      },
      "source": [
        "plt.imshow(env.get_global_minimap(30,30)[:,:,:].sum(axis=2))"
      ],
      "execution_count": null,
      "outputs": [
        {
          "output_type": "execute_result",
          "data": {
            "text/plain": [
              "<matplotlib.image.AxesImage at 0x7f062e78c8d0>"
            ]
          },
          "metadata": {
            "tags": []
          },
          "execution_count": 26
        },
        {
          "output_type": "display_data",
          "data": {
            "image/png": "[encoded data removed]",
            "text/plain": [
              "<Figure size 432x288 with 1 Axes>"
            ]
          },
          "metadata": {
            "tags": [],
            "needs_background": "light"
          }
        }
      ]
    },
    {
      "cell_type": "markdown",
      "metadata": {
        "id": "Hlhay6aDbENt"
      },
      "source": [
        "# 程式 9.15： 找出鄰居"
      ]
    },
    {
      "cell_type": "code",
      "metadata": {
        "id": "aF9TOyU_bH88"
      },
      "source": [
        "def get_neighbors(j,pos_list,r=6): #接收了包含所有代理人位置的pos_list後，傳回以代理人j為中心，半徑r以內的代理人索引值\n",
        "  neighbors = []\n",
        "  pos_j = pos_list[j] #將代理人j的位置存進pos_j\n",
        "  for i,pos in enumerate(pos_list):\n",
        "    if i == j:\n",
        "      continue\n",
        "    dist = cityblock(pos,pos_j)#比較pos及pos_j之間的距離\n",
        "    if dist < r:\n",
        "      neighbors.append(i) #將半徑r內的代理人索引存進neighbors串列中\n",
        "  return neighbors"
      ],
      "execution_count": null,
      "outputs": []
    },
    {
      "cell_type": "code",
      "metadata": {
        "id": "9uvxHDV0nz5A",
        "colab": {
          "base_uri": "https://localhost:8080/"
        },
        "outputId": "e007668b-4aa8-49a8-d4cc-e34ff6ccd3c2"
      },
      "source": [
        "get_neighbors(5,env.get_pos(team1))"
      ],
      "execution_count": null,
      "outputs": [
        {
          "output_type": "execute_result",
          "data": {
            "text/plain": [
              "[0, 1, 2, 4, 6, 7, 8, 9, 10, 13]"
            ]
          },
          "metadata": {
            "tags": []
          },
          "execution_count": 28
        }
      ]
    },
    {
      "cell_type": "markdown",
      "metadata": {
        "id": "7u8_3GAqbJOC"
      },
      "source": [
        "# 程式 9.16： 計算平均場動作向量"
      ]
    },
    {
      "cell_type": "code",
      "metadata": {
        "id": "eTXHUXAmbK2W"
      },
      "source": [
        "def get_onehot(a,l=21): #將動作的整數索引轉換為one-hot動作向量,a為所選擇的動作索引\n",
        "  x = torch.zeros(21)\n",
        "  x[a] = 1\n",
        "  return x\n",
        "\n",
        "def get_scalar(v): #將one-hot動作向量轉換為整數索引\n",
        "  return torch.argmax(v)\n",
        "\n",
        "def get_mean_field(j,pos_list,act_list,r=6,l=21): #計算代理人j的平均場動作，其中pos_list是各代理人的座標值，act_list記錄了各代理人選擇之動作索引，而l則代表動作空間的維度\n",
        "  neighbors = get_neighbors(j,pos_list,r=r) #使用pos_list找出代理人j的所有鄰居\n",
        "  mean_field = torch.zeros(l)\n",
        "  for k in neighbors:\n",
        "    act_ = act_list[k]\n",
        "    act = get_onehot(act_)\n",
        "    mean_field += act\n",
        "  tot = mean_field.sum()\n",
        "  mean_field = mean_field / tot if tot > 0 else mean_field #處理分母為0的狀況\n",
        "  return mean_field"
      ],
      "execution_count": null,
      "outputs": []
    },
    {
      "cell_type": "markdown",
      "metadata": {
        "id": "kvT0CunobN4d"
      },
      "source": [
        "# 程式 9.17： 選擇動作"
      ]
    },
    {
      "cell_type": "code",
      "metadata": {
        "id": "66MpM-OjbPwm"
      },
      "source": [
        "def infer_acts(obs,param,layers,pos_list,acts,act_space=21,num_iter=5,temp=0.5):\n",
        "  N = acts.shape[0] #取得代理人數量\n",
        "  mean_fields = torch.zeros(N,act_space)\n",
        "  acts_ = acts.clone() #複製動作向量，避免原向量受影響\n",
        "  qvals = torch.zeros(N,act_space)\n",
        "\n",
        "  for i in range(num_iter): \n",
        "    for j in range(N): #走訪每位代理人，計算其鄰居的平均場動作向量\n",
        "      mean_fields[j] = get_mean_field(j,pos_list,acts_)\n",
        "    for j in range(N): \n",
        "      state = torch.cat((obs[j].flatten(),mean_fields[j])) #依照平均場動作與狀態來計算Q值，並且使用softmax策略來選擇動作\n",
        "      qs = qfunc(state.detach(),param,layers=layers)\n",
        "      qvals[j,:] = qs[:]\n",
        "      acts_[j] = softmax_policy(qs.detach(),temp=temp)\n",
        "  return acts_, mean_fields, qvals\n",
        "\n",
        "def init_mean_field(N,act_space=21): #隨機初始化平均場向量\n",
        "  mean_fields = torch.abs(torch.rand(N,act_space))\n",
        "  for i in range(mean_fields.shape[0]):\n",
        "    mean_fields[i] = mean_fields[i] / mean_fields[i].sum()\n",
        "  return mean_fields"
      ],
      "execution_count": null,
      "outputs": []
    },
    {
      "cell_type": "markdown",
      "metadata": {
        "id": "Rg7kqfTvbSfI"
      },
      "source": [
        "# 程式 9.18： 訓練函式"
      ]
    },
    {
      "cell_type": "code",
      "metadata": {
        "id": "GLwBLJdSbUF-"
      },
      "source": [
        "def train(batch_size,replay,param,layers,J=64,gamma=0.5,lr=0.001):\n",
        "  ids = np.random.randint(low=0,high=len(replay),size=batch_size) #生成包含隨機索引值的串列\n",
        "  exps = [replay[idx] for idx in ids] #利用隨機產生的索引將經驗池的相應經驗取出，組成訓練批次\n",
        "  losses = []\n",
        "  jobs = torch.stack([ex[0] for ex in exps]).detach() #將訓練批次中的狀態資料堆疊至單一張量中\n",
        "  jacts = torch.stack([ex[1] for ex in exps]).detach() #將訓練批次中動作資料堆疊至單一張量中\n",
        "  jrewards = torch.stack([ex[2] for ex in exps]).detach() #將訓練批次中回饋值資料堆疊至單一張量中\n",
        "  jmeans = torch.stack([ex[3] for ex in exps]).detach() #將訓練批次中平均場動作堆疊至單一張量中\n",
        "  vs = torch.stack([ex[4] for ex in exps]).detach() #將訓練批次中狀態價值資料堆疊至單一張量中\n",
        "  qs = []\n",
        "  for h in range(batch_size): #走訪訓練批次中的每一筆經驗資料\n",
        "    state = torch.cat((jobs[h].flatten(),jmeans[h]))\n",
        "    qs.append(qfunc(state.detach(),param,layers=layers)) #計算每一筆經驗資料的Q值\n",
        "  qvals = torch.stack(qs)\n",
        "  target = qvals.clone().detach()\n",
        "  target[:,jacts] = jrewards + gamma * torch.max(vs,dim=1)[0] #計算目標Q值\n",
        "  loss = torch.sum(torch.pow(qvals - target.detach(),2))\n",
        "  losses.append(loss.detach().item())\n",
        "  loss.backward()\n",
        "  with torch.no_grad(): #隨機梯度下降（stochastic gradient descent, SGD）\n",
        "    param = param - lr * param.grad\n",
        "  param.requires_grad = True\n",
        "  return np.array(losses).mean()"
      ],
      "execution_count": null,
      "outputs": []
    },
    {
      "cell_type": "markdown",
      "metadata": {
        "id": "7H5dYbwEbXFX"
      },
      "source": [
        "# 程式 9.19： 參數初始化"
      ]
    },
    {
      "cell_type": "code",
      "metadata": {
        "id": "p4aB_Q5AbZ-S"
      },
      "source": [
        "N1 = env.get_num(team1) #儲存每一小組的代理人數量\n",
        "N2 = env.get_num(team2)\n",
        "step_ct = 0\n",
        "acts_1 = torch.randint(low=0,high=act_space,size=(N1,)) #隨機產生每一位代理人的初始動作\n",
        "acts_2 = torch.randint(low=0,high=act_space,size=(N2,))\n",
        "\n",
        "replay1 = deque(maxlen=replay_size) #使用deque資料結構建立經驗回放緩衝區\n",
        "replay2 = deque(maxlen=replay_size)\n",
        "\n",
        "qnext1 = torch.zeros(N1) #建立張量來儲存Q(s’)值，其中『s’』代表新狀態\n",
        "qnext2 = torch.zeros(N2)\n",
        "\n",
        "act_means1 = init_mean_field(N1,act_space)  #產生每一位代理人的初始平均場\n",
        "act_means2 = init_mean_field(N2,act_space)\n",
        "\n",
        "rewards1 = torch.zeros(N1) #建立張量來儲存每一位代理人的回饋值\n",
        "rewards2 = torch.zeros(N2)\n",
        "\n",
        "losses1 = []\n",
        "losses2 = []"
      ],
      "execution_count": null,
      "outputs": []
    },
    {
      "cell_type": "markdown",
      "metadata": {
        "id": "p4oAxD9hbfQA"
      },
      "source": [
        "# 程式 9.20： 以小組為單位執行動作，並存放經驗資料至經驗池"
      ]
    },
    {
      "cell_type": "code",
      "metadata": {
        "id": "YpoQ7CVxbgzb"
      },
      "source": [
        "def team_step(team,param,acts,layers):\n",
        "  obs = env.get_observation(team) #取得team1的觀測張量，其維度為16×13×13×7\n",
        "  ids = env.get_agent_id(team) #取得存活代理人的索引值，並儲存於串列中\n",
        "  obs_small = torch.from_numpy(obs[0][:,:,:,[1,4]]) #將觀測張量切割成子集，且只取其中的代理人位置資訊\n",
        "  agent_pos = env.get_pos(team) #取得某小組中所有代理人的座標，並儲存於串列中\n",
        "  acts, act_means, qvals = infer_acts(obs_small, param,layers,agent_pos,acts) #利用DQN決定每一位代理人所要執行的動作\n",
        "  return acts, act_means, qvals, obs_small, ids\n",
        "\n",
        "def add_to_replay(replay,obs_small, acts,rewards,act_means,qnext): #將每一位代理人的經驗資料分別儲存至經驗池中\n",
        "  for j in range(rewards.shape[0]): #走訪每一位代理人\n",
        "    exp = (obs_small[j], acts[j],rewards[j],act_means[j],qnext[j])\n",
        "    replay.append(exp)    \n",
        "  return replay"
      ],
      "execution_count": null,
      "outputs": []
    },
    {
      "cell_type": "markdown",
      "metadata": {
        "id": "nFiJ9Y2AblDC"
      },
      "source": [
        "# 程式 9.21 & 9.22： 訓練迴圈&將經驗資料加入經驗池"
      ]
    },
    {
      "cell_type": "code",
      "metadata": {
        "id": "dYPIxuqkbnOp",
        "colab": {
          "base_uri": "https://localhost:8080/",
          "height": 625
        },
        "outputId": "b8215b0c-21fa-41fb-aaff-fd1c3d4e580e"
      },
      "source": [
        "from IPython.display import clear_output\n",
        "for i in range(epochs):\n",
        "  done = False\n",
        "  while not done: \n",
        "    acts_1, act_means1, qvals1, obs_small_1, ids_1 = team_step(team1,params[0], acts_1,layers) #利用team_step( )搜集環境資料，並執行DQN來為每位代理人選擇動作\n",
        "    env.set_action(team1, acts_1.detach().numpy().astype(np.int32)) #在環境中，將所選擇的動作實例化\n",
        "    acts_2, act_means2, qvals2, obs_small_2, ids_2 = team_step(team2,params[0], acts_2,layers)\n",
        "    env.set_action(team2, acts_2.detach().numpy().astype(np.int32))\n",
        "    done = env.step() #在環境中，往前推進一步遊戲，進而產生新的觀測資料與回饋值\n",
        "    _, _, qnext1, _, ids_1 = team_step(team1,params[0],acts_1,layers) #重新執行一次team_step以取得環境新狀態的Q值\n",
        "    _, _, qnext2, _, ids_2 = team_step(team2,params[0],acts_2,layers)\n",
        "    rewards1 = torch.from_numpy(env.get_reward(team1)).float() #將每位代理人的回饋值儲存至張量中\n",
        "    rewards2 = torch.from_numpy(env.get_reward(team2)).float()\n",
        "\n",
        "###程式 9.22\n",
        "    replay1 = add_to_replay(replay1, obs_small_1, acts_1,rewards1,act_means1,qnext1) #將資料加入經驗池\n",
        "    replay2 = add_to_replay(replay2, obs_small_2, acts_2,rewards2,act_means2,qnext2)     \n",
        "    shuffle(replay1) #將回放緩衝區中的經驗順序打亂\n",
        "    shuffle(replay2)        \n",
        "    ids_1_ = list(zip(np.arange(ids_1.shape[0]),ids_1)) #建立一個代理人索引（ID）資料的壓縮串列，以便追蹤哪些代理人已經陣亡\n",
        "    ids_2_ = list(zip(np.arange(ids_2.shape[0]),ids_2))        \n",
        "    env.clear_dead() #將陣亡的代理人從方格板上清除        \n",
        "    ids_1  = env.get_agent_id(team1) #由於陣亡代理人已經移除，重新取得存活代理人的ID，並以串列儲存\n",
        "    ids_2  = env.get_agent_id(team2)        \n",
        "    ids_1_ = [i for (i,j) in ids_1_ if j in ids_1] #根據尚存活的代理人ID，將舊的ID串列分割成子集\n",
        "    ids_2_ = [i for (i,j) in ids_2_ if j in ids_2]        \n",
        "    acts_1 = acts_1[ids_1_] #根據尚存活的代理人ID，將動作串列切割成子集\n",
        "    acts_2 = acts_2[ids_2_]        \n",
        "    step_ct += 1\n",
        "    if step_ct > 250:\n",
        "      break            \n",
        "    if len(replay1) > batch_size and len(replay2) > batch_size: #當回放緩衝區內有足夠數量的資料時，開啟訓練程序\n",
        "      loss1 = train(batch_size,replay1,params[0],layers=layers,J=N1)\n",
        "      loss2 = train(batch_size,replay2,params[1],layers=layers,J=N1)\n",
        "      losses1.append(loss1)\n",
        "      losses2.append(loss2)\n",
        "\n",
        "#小編補充：視覺化遊戲過程###\n",
        "  print(\"Training epochs: \",i,\"\\nTeam 1 left: \",len(ids_1_),\"\\nTeam 2 left: \",len(ids_2_))  \n",
        "  if(len(ids_1_)==0):\n",
        "    print(\"Team 2 won!\")\n",
        "    break\n",
        "  if(len(ids_2_)==0):\n",
        "    print(\"Team 1 won!\")\n",
        "    break\n",
        "  plt.pause(0.001)\n",
        "  plt.imshow(env.get_global_minimap(30,30)[:,:,:].sum(axis=2))\n",
        "  clear_output(wait=True)\n"
      ],
      "execution_count": null,
      "outputs": [
        {
          "output_type": "error",
          "ename": "KeyboardInterrupt",
          "evalue": "ignored",
          "traceback": [
            "\u001b[0;31m---------------------------------------------------------------------------\u001b[0m",
            "\u001b[0;31mKeyboardInterrupt\u001b[0m                         Traceback (most recent call last)",
            "\u001b[0;32m<ipython-input-42-d06110527cc1>\u001b[0m in \u001b[0;36m<module>\u001b[0;34m()\u001b[0m\n\u001b[1;32m      3\u001b[0m   \u001b[0mdone\u001b[0m \u001b[0;34m=\u001b[0m \u001b[0;32mFalse\u001b[0m\u001b[0;34m\u001b[0m\u001b[0;34m\u001b[0m\u001b[0m\n\u001b[1;32m      4\u001b[0m   \u001b[0;32mwhile\u001b[0m \u001b[0;32mnot\u001b[0m \u001b[0mdone\u001b[0m\u001b[0;34m:\u001b[0m\u001b[0;34m\u001b[0m\u001b[0;34m\u001b[0m\u001b[0m\n\u001b[0;32m----> 5\u001b[0;31m     \u001b[0macts_1\u001b[0m\u001b[0;34m,\u001b[0m \u001b[0mact_means1\u001b[0m\u001b[0;34m,\u001b[0m \u001b[0mqvals1\u001b[0m\u001b[0;34m,\u001b[0m \u001b[0mobs_small_1\u001b[0m\u001b[0;34m,\u001b[0m \u001b[0mids_1\u001b[0m \u001b[0;34m=\u001b[0m \u001b[0mteam_step\u001b[0m\u001b[0;34m(\u001b[0m\u001b[0mteam1\u001b[0m\u001b[0;34m,\u001b[0m\u001b[0mparams\u001b[0m\u001b[0;34m[\u001b[0m\u001b[0;36m0\u001b[0m\u001b[0;34m]\u001b[0m\u001b[0;34m,\u001b[0m \u001b[0macts_1\u001b[0m\u001b[0;34m,\u001b[0m\u001b[0mlayers\u001b[0m\u001b[0;34m)\u001b[0m \u001b[0;31m#利用team_step( )搜集環境資料，並執行DQN來為每位代理人選擇動作\u001b[0m\u001b[0;34m\u001b[0m\u001b[0;34m\u001b[0m\u001b[0m\n\u001b[0m\u001b[1;32m      6\u001b[0m     \u001b[0menv\u001b[0m\u001b[0;34m.\u001b[0m\u001b[0mset_action\u001b[0m\u001b[0;34m(\u001b[0m\u001b[0mteam1\u001b[0m\u001b[0;34m,\u001b[0m \u001b[0macts_1\u001b[0m\u001b[0;34m.\u001b[0m\u001b[0mdetach\u001b[0m\u001b[0;34m(\u001b[0m\u001b[0;34m)\u001b[0m\u001b[0;34m.\u001b[0m\u001b[0mnumpy\u001b[0m\u001b[0;34m(\u001b[0m\u001b[0;34m)\u001b[0m\u001b[0;34m.\u001b[0m\u001b[0mastype\u001b[0m\u001b[0;34m(\u001b[0m\u001b[0mnp\u001b[0m\u001b[0;34m.\u001b[0m\u001b[0mint32\u001b[0m\u001b[0;34m)\u001b[0m\u001b[0;34m)\u001b[0m \u001b[0;31m#在環境中，將所選擇的動作實例化\u001b[0m\u001b[0;34m\u001b[0m\u001b[0;34m\u001b[0m\u001b[0m\n\u001b[1;32m      7\u001b[0m     \u001b[0macts_2\u001b[0m\u001b[0;34m,\u001b[0m \u001b[0mact_means2\u001b[0m\u001b[0;34m,\u001b[0m \u001b[0mqvals2\u001b[0m\u001b[0;34m,\u001b[0m \u001b[0mobs_small_2\u001b[0m\u001b[0;34m,\u001b[0m \u001b[0mids_2\u001b[0m \u001b[0;34m=\u001b[0m \u001b[0mteam_step\u001b[0m\u001b[0;34m(\u001b[0m\u001b[0mteam2\u001b[0m\u001b[0;34m,\u001b[0m\u001b[0mparams\u001b[0m\u001b[0;34m[\u001b[0m\u001b[0;36m0\u001b[0m\u001b[0;34m]\u001b[0m\u001b[0;34m,\u001b[0m \u001b[0macts_2\u001b[0m\u001b[0;34m,\u001b[0m\u001b[0mlayers\u001b[0m\u001b[0;34m)\u001b[0m\u001b[0;34m\u001b[0m\u001b[0;34m\u001b[0m\u001b[0m\n",
            "\u001b[0;32m<ipython-input-34-377b0961100f>\u001b[0m in \u001b[0;36mteam_step\u001b[0;34m(team, param, acts, layers)\u001b[0m\n\u001b[1;32m      4\u001b[0m   \u001b[0mobs_small\u001b[0m \u001b[0;34m=\u001b[0m \u001b[0mtorch\u001b[0m\u001b[0;34m.\u001b[0m\u001b[0mfrom_numpy\u001b[0m\u001b[0;34m(\u001b[0m\u001b[0mobs\u001b[0m\u001b[0;34m[\u001b[0m\u001b[0;36m0\u001b[0m\u001b[0;34m]\u001b[0m\u001b[0;34m[\u001b[0m\u001b[0;34m:\u001b[0m\u001b[0;34m,\u001b[0m\u001b[0;34m:\u001b[0m\u001b[0;34m,\u001b[0m\u001b[0;34m:\u001b[0m\u001b[0;34m,\u001b[0m\u001b[0;34m[\u001b[0m\u001b[0;36m1\u001b[0m\u001b[0;34m,\u001b[0m\u001b[0;36m4\u001b[0m\u001b[0;34m]\u001b[0m\u001b[0;34m]\u001b[0m\u001b[0;34m)\u001b[0m \u001b[0;31m#將觀測張量切割成子集，且只取其中的代理人位置資訊\u001b[0m\u001b[0;34m\u001b[0m\u001b[0;34m\u001b[0m\u001b[0m\n\u001b[1;32m      5\u001b[0m   \u001b[0magent_pos\u001b[0m \u001b[0;34m=\u001b[0m \u001b[0menv\u001b[0m\u001b[0;34m.\u001b[0m\u001b[0mget_pos\u001b[0m\u001b[0;34m(\u001b[0m\u001b[0mteam\u001b[0m\u001b[0;34m)\u001b[0m \u001b[0;31m#取得某小組中所有代理人的座標，並儲存於串列中\u001b[0m\u001b[0;34m\u001b[0m\u001b[0;34m\u001b[0m\u001b[0m\n\u001b[0;32m----> 6\u001b[0;31m   \u001b[0macts\u001b[0m\u001b[0;34m,\u001b[0m \u001b[0mact_means\u001b[0m\u001b[0;34m,\u001b[0m \u001b[0mqvals\u001b[0m \u001b[0;34m=\u001b[0m \u001b[0minfer_acts\u001b[0m\u001b[0;34m(\u001b[0m\u001b[0mobs_small\u001b[0m\u001b[0;34m,\u001b[0m \u001b[0mparam\u001b[0m\u001b[0;34m,\u001b[0m\u001b[0mlayers\u001b[0m\u001b[0;34m,\u001b[0m\u001b[0magent_pos\u001b[0m\u001b[0;34m,\u001b[0m\u001b[0macts\u001b[0m\u001b[0;34m)\u001b[0m \u001b[0;31m#利用DQN決定每一位代理人所要執行的動作\u001b[0m\u001b[0;34m\u001b[0m\u001b[0;34m\u001b[0m\u001b[0m\n\u001b[0m\u001b[1;32m      7\u001b[0m   \u001b[0;32mreturn\u001b[0m \u001b[0macts\u001b[0m\u001b[0;34m,\u001b[0m \u001b[0mact_means\u001b[0m\u001b[0;34m,\u001b[0m \u001b[0mqvals\u001b[0m\u001b[0;34m,\u001b[0m \u001b[0mobs_small\u001b[0m\u001b[0;34m,\u001b[0m \u001b[0mids\u001b[0m\u001b[0;34m\u001b[0m\u001b[0;34m\u001b[0m\u001b[0m\n\u001b[1;32m      8\u001b[0m \u001b[0;34m\u001b[0m\u001b[0m\n",
            "\u001b[0;32m<ipython-input-30-115b4e4ff1f9>\u001b[0m in \u001b[0;36minfer_acts\u001b[0;34m(obs, param, layers, pos_list, acts, act_space, num_iter, temp)\u001b[0m\n\u001b[1;32m      7\u001b[0m   \u001b[0;32mfor\u001b[0m \u001b[0mi\u001b[0m \u001b[0;32min\u001b[0m \u001b[0mrange\u001b[0m\u001b[0;34m(\u001b[0m\u001b[0mnum_iter\u001b[0m\u001b[0;34m)\u001b[0m\u001b[0;34m:\u001b[0m\u001b[0;34m\u001b[0m\u001b[0;34m\u001b[0m\u001b[0m\n\u001b[1;32m      8\u001b[0m     \u001b[0;32mfor\u001b[0m \u001b[0mj\u001b[0m \u001b[0;32min\u001b[0m \u001b[0mrange\u001b[0m\u001b[0;34m(\u001b[0m\u001b[0mN\u001b[0m\u001b[0;34m)\u001b[0m\u001b[0;34m:\u001b[0m \u001b[0;31m#走訪每位代理人，計算其鄰居的平均場動作向量\u001b[0m\u001b[0;34m\u001b[0m\u001b[0;34m\u001b[0m\u001b[0m\n\u001b[0;32m----> 9\u001b[0;31m       \u001b[0mmean_fields\u001b[0m\u001b[0;34m[\u001b[0m\u001b[0mj\u001b[0m\u001b[0;34m]\u001b[0m \u001b[0;34m=\u001b[0m \u001b[0mget_mean_field\u001b[0m\u001b[0;34m(\u001b[0m\u001b[0mj\u001b[0m\u001b[0;34m,\u001b[0m\u001b[0mpos_list\u001b[0m\u001b[0;34m,\u001b[0m\u001b[0macts_\u001b[0m\u001b[0;34m)\u001b[0m\u001b[0;34m\u001b[0m\u001b[0;34m\u001b[0m\u001b[0m\n\u001b[0m\u001b[1;32m     10\u001b[0m     \u001b[0;32mfor\u001b[0m \u001b[0mj\u001b[0m \u001b[0;32min\u001b[0m \u001b[0mrange\u001b[0m\u001b[0;34m(\u001b[0m\u001b[0mN\u001b[0m\u001b[0;34m)\u001b[0m\u001b[0;34m:\u001b[0m\u001b[0;34m\u001b[0m\u001b[0;34m\u001b[0m\u001b[0m\n\u001b[1;32m     11\u001b[0m       \u001b[0mstate\u001b[0m \u001b[0;34m=\u001b[0m \u001b[0mtorch\u001b[0m\u001b[0;34m.\u001b[0m\u001b[0mcat\u001b[0m\u001b[0;34m(\u001b[0m\u001b[0;34m(\u001b[0m\u001b[0mobs\u001b[0m\u001b[0;34m[\u001b[0m\u001b[0mj\u001b[0m\u001b[0;34m]\u001b[0m\u001b[0;34m.\u001b[0m\u001b[0mflatten\u001b[0m\u001b[0;34m(\u001b[0m\u001b[0;34m)\u001b[0m\u001b[0;34m,\u001b[0m\u001b[0mmean_fields\u001b[0m\u001b[0;34m[\u001b[0m\u001b[0mj\u001b[0m\u001b[0;34m]\u001b[0m\u001b[0;34m)\u001b[0m\u001b[0;34m)\u001b[0m \u001b[0;31m#依照平均場動作與狀態來計算Q值，並且使用softmax策略來選擇動作\u001b[0m\u001b[0;34m\u001b[0m\u001b[0;34m\u001b[0m\u001b[0m\n",
            "\u001b[0;32m<ipython-input-29-e0f01965a83a>\u001b[0m in \u001b[0;36mget_mean_field\u001b[0;34m(j, pos_list, act_list, r, l)\u001b[0m\n\u001b[1;32m     12\u001b[0m   \u001b[0;32mfor\u001b[0m \u001b[0mk\u001b[0m \u001b[0;32min\u001b[0m \u001b[0mneighbors\u001b[0m\u001b[0;34m:\u001b[0m\u001b[0;34m\u001b[0m\u001b[0;34m\u001b[0m\u001b[0m\n\u001b[1;32m     13\u001b[0m     \u001b[0mact_\u001b[0m \u001b[0;34m=\u001b[0m \u001b[0mact_list\u001b[0m\u001b[0;34m[\u001b[0m\u001b[0mk\u001b[0m\u001b[0;34m]\u001b[0m\u001b[0;34m\u001b[0m\u001b[0;34m\u001b[0m\u001b[0m\n\u001b[0;32m---> 14\u001b[0;31m     \u001b[0mact\u001b[0m \u001b[0;34m=\u001b[0m \u001b[0mget_onehot\u001b[0m\u001b[0;34m(\u001b[0m\u001b[0mact_\u001b[0m\u001b[0;34m)\u001b[0m\u001b[0;34m\u001b[0m\u001b[0;34m\u001b[0m\u001b[0m\n\u001b[0m\u001b[1;32m     15\u001b[0m     \u001b[0mmean_field\u001b[0m \u001b[0;34m+=\u001b[0m \u001b[0mact\u001b[0m\u001b[0;34m\u001b[0m\u001b[0;34m\u001b[0m\u001b[0m\n\u001b[1;32m     16\u001b[0m   \u001b[0mtot\u001b[0m \u001b[0;34m=\u001b[0m \u001b[0mmean_field\u001b[0m\u001b[0;34m.\u001b[0m\u001b[0msum\u001b[0m\u001b[0;34m(\u001b[0m\u001b[0;34m)\u001b[0m\u001b[0;34m\u001b[0m\u001b[0;34m\u001b[0m\u001b[0m\n",
            "\u001b[0;32m<ipython-input-29-e0f01965a83a>\u001b[0m in \u001b[0;36mget_onehot\u001b[0;34m(a, l)\u001b[0m\n\u001b[1;32m      1\u001b[0m \u001b[0;32mdef\u001b[0m \u001b[0mget_onehot\u001b[0m\u001b[0;34m(\u001b[0m\u001b[0ma\u001b[0m\u001b[0;34m,\u001b[0m\u001b[0ml\u001b[0m\u001b[0;34m=\u001b[0m\u001b[0;36m21\u001b[0m\u001b[0;34m)\u001b[0m\u001b[0;34m:\u001b[0m \u001b[0;31m#將動作的整數索引轉換為one-hot動作向量,a為所選擇的動作索引\u001b[0m\u001b[0;34m\u001b[0m\u001b[0;34m\u001b[0m\u001b[0m\n\u001b[0;32m----> 2\u001b[0;31m   \u001b[0mx\u001b[0m \u001b[0;34m=\u001b[0m \u001b[0mtorch\u001b[0m\u001b[0;34m.\u001b[0m\u001b[0mzeros\u001b[0m\u001b[0;34m(\u001b[0m\u001b[0;36m21\u001b[0m\u001b[0;34m)\u001b[0m\u001b[0;34m\u001b[0m\u001b[0;34m\u001b[0m\u001b[0m\n\u001b[0m\u001b[1;32m      3\u001b[0m   \u001b[0mx\u001b[0m\u001b[0;34m[\u001b[0m\u001b[0ma\u001b[0m\u001b[0;34m]\u001b[0m \u001b[0;34m=\u001b[0m \u001b[0;36m1\u001b[0m\u001b[0;34m\u001b[0m\u001b[0;34m\u001b[0m\u001b[0m\n\u001b[1;32m      4\u001b[0m   \u001b[0;32mreturn\u001b[0m \u001b[0mx\u001b[0m\u001b[0;34m\u001b[0m\u001b[0;34m\u001b[0m\u001b[0m\n\u001b[1;32m      5\u001b[0m \u001b[0;34m\u001b[0m\u001b[0m\n",
            "\u001b[0;31mKeyboardInterrupt\u001b[0m: "
          ]
        },
        {
          "output_type": "display_data",
          "data": {
            "image/png": "[encoded data removed]",
            "text/plain": [
              "<Figure size 432x288 with 1 Axes>"
            ]
          },
          "metadata": {
            "tags": [],
            "needs_background": "light"
          }
        }
      ]
    }
  ]
}