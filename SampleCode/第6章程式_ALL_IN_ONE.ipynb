{
 "cells": [
  {
   "cell_type": "markdown",
   "metadata": {
    "id": "VYQ8W2tzMRuc"
   },
   "source": [
    "## 程式 6.1:  生成隨機字串"
   ]
  },
  {
   "cell_type": "code",
   "execution_count": 1,
   "metadata": {
    "id": "bg1Lc13hpYCP"
   },
   "outputs": [],
   "source": [
    "import random\n",
    "import numpy as np\n",
    "from matplotlib import pyplot as plt\n",
    "\n",
    "alphabet = \"abcdefghijklmnopqrstuvwxyzABCDEFGHIJKLMNOPQRSTUVWXYZ,.! \" #我們用來組成字串的字元清單（包含空格及一些符號）\n",
    "target = \"Hello World!\" #目標字串\n",
    "\n",
    "class Individual: #建立類別來儲存族群中每個個體的資訊\n",
    "  def __init__(self, string, fitness=0):\n",
    "    self.string = string\n",
    "    self.fitness = fitness\n",
    "\n",
    "def spawn_population(length, size): #生成初始族群中的隨機字串\n",
    "  pop = []\n",
    "  for i in range(size):\n",
    "    string = ''.join(random.choices(alphabet,k=length)) #將選出的字元拼在一起\n",
    "    individual = Individual(string)\n",
    "    pop.append(individual)\n",
    "  return pop\n",
    "\n",
    "from difflib import SequenceMatcher\n",
    "\n",
    "def similar(a, b): #計算兩字串的相似度，並回傳適應度分數\n",
    "  return SequenceMatcher(None, a, b).ratio() #傳回值介於0～1，1代表完全符合，0代表完全不符合"
   ]
  },
  {
   "cell_type": "markdown",
   "metadata": {
    "id": "KAAaf3TzMbPf"
   },
   "source": [
    "## 程式 6.2： 重組及突變"
   ]
  },
  {
   "cell_type": "code",
   "execution_count": 2,
   "metadata": {
    "id": "qvU4Sm7_tU5O"
   },
   "outputs": [],
   "source": [
    "def recombine(p1_, p2_): #將兩個親代字串重組，並產生兩個後代字串\n",
    "  p1 = p1_.string\n",
    "  p2 = p2_.string\n",
    "  child1 = []\n",
    "  child2 = []\n",
    "  cross_pt = random.randint(0,len(p1)) #隨機設定重組的切割位置，會切成兩段以進行重組\n",
    "  child1.extend(p1[0:cross_pt]) #重組兩個親代字串\n",
    "  child1.extend(p2[cross_pt:])\n",
    "  child2.extend(p2[0:cross_pt])\n",
    "  child2.extend(p1[cross_pt:])\n",
    "  c1 = Individual(''.join(child1))\n",
    "  c2 = Individual(''.join(child2))\n",
    "  return c1, c2\n",
    "\n",
    "def mutate(x, mut_rate): #透過隨機改變字串中的字母來達到突變的目的\n",
    "  new_x_ = []\n",
    "  for char in x.string:\n",
    "    if random.random() < mut_rate: \n",
    "      new_x_.extend(random.choices(alphabet,k=1)) #從之前的字元清單中隨機選出一個字元替換原有字元\n",
    "    else:\n",
    "      new_x_.append(char) #保留原有字元\n",
    "  new_x = Individual(''.join(new_x_))\n",
    "  return new_x"
   ]
  },
  {
   "cell_type": "markdown",
   "metadata": {
    "id": "4-A9fMtBNFIw"
   },
   "source": [
    "## 程式 6.3： 評估個體與產生新一代字串族群"
   ]
  },
  {
   "cell_type": "code",
   "execution_count": 3,
   "metadata": {
    "id": "GH9JzjBBLoUH"
   },
   "outputs": [],
   "source": [
    "def evaluate_population(pop, target): #計算族群中每個個體的適應度分數\n",
    "  avg_fit = 0 #用來儲存族群內個體的平均適應度\n",
    "  for i in range(len(pop)):\n",
    "    fit = similar(pop[i].string, target) #利用程式6.1中的similar( )函式計算適應度\n",
    "    pop[i].fitness = fit\n",
    "    avg_fit += fit\n",
    "  avg_fit /= len(pop) #計算整個族群的平均適應度\n",
    "  return pop, avg_fit\n",
    "\n",
    "def next_generation(pop, size, length, mut_rate): #透過重組和突變來產生新一代字串族群\n",
    "  new_pop = []\n",
    "  while len(new_pop) < size:\n",
    "    parents = random.choices(pop,k=2, weights=[x.fitness for x in pop]) #根據適應度隨機選出2個親代個體\n",
    "    offspring_ = recombine(parents[0],parents[1]) #利用程式6.2中的recombine( )函式進行重組\n",
    "    child1 = mutate(offspring_[0], mut_rate=mut_rate)#進行突變處理\n",
    "    child2 = mutate(offspring_[1], mut_rate=mut_rate)\n",
    "    offspring = [child1, child2]\n",
    "    new_pop.extend(offspring)\n",
    "  return new_pop"
   ]
  },
  {
   "cell_type": "markdown",
   "metadata": {
    "id": "3IP2e3nyW3fr"
   },
   "source": [
    "## 程式 6.4： 完整的進化過程"
   ]
  },
  {
   "cell_type": "code",
   "execution_count": 4,
   "metadata": {
    "id": "BjB2Izx5W7h0"
   },
   "outputs": [],
   "source": [
    "num_generations = 150 #總世代數\n",
    "population_size = 900 #族群大小\n",
    "str_len = len(target) #取得目標字串的長度\n",
    "mutation_rate = 0.00001 #將突變率設定為0.001%\n",
    "\n",
    "pop_fit = [] #建立一個儲存族群適應度的串列\n",
    "pop = spawn_population(size=population_size, length=str_len) #建立初始族群\n",
    "done = False #用來記錄是否已繁衍出目標字串，若已生成則為True\n",
    "for gen in range(num_generations):\n",
    "  pop, avg_fit = evaluate_population(pop, target)\n",
    "  pop_fit.append(avg_fit) #將訓練過程中，每個世代的族群平均適應度記錄下來\n",
    "  new_pop = next_generation(pop, size=population_size, length=str_len, mut_rate=mutation_rate) #產生新世代的族群\n",
    "  pop = new_pop\n",
    "  for x in pop:\n",
    "    if x.string == target: \n",
    "      print(\"Target Found!\")\n",
    "      done = True\n",
    "  if done: #只要繁衍出目標字串，就提前結束進化過程\n",
    "    break"
   ]
  },
  {
   "cell_type": "code",
   "execution_count": 5,
   "metadata": {
    "colab": {
     "base_uri": "https://localhost:8080/",
     "height": 36
    },
    "id": "3g_7DNlY2uxP",
    "outputId": "3211f3f3-8ba8-44a2-c606-c8d74529405c"
   },
   "outputs": [
    {
     "data": {
      "text/plain": [
       "'Hllo orld!IG'"
      ]
     },
     "execution_count": 5,
     "metadata": {},
     "output_type": "execute_result"
    }
   ],
   "source": [
    "pop.sort(key=lambda x:x.fitness,reverse=True)\n",
    "pop[0].string"
   ]
  },
  {
   "cell_type": "markdown",
   "metadata": {
    "id": "uchGPOz_YczZ"
   },
   "source": [
    "## 程式 6.4（測試）"
   ]
  },
  {
   "cell_type": "code",
   "execution_count": 6,
   "metadata": {
    "colab": {
     "base_uri": "https://localhost:8080/",
     "height": 487
    },
    "id": "BflehdtoYb9g",
    "outputId": "9b95f615-1c30-492d-be6d-b14c86a82f3e"
   },
   "outputs": [
    {
     "name": "stdout",
     "output_type": "stream",
     "text": [
      "Hllo orld!IG\n"
     ]
    },
    {
     "data": {
      "text/plain": [
       "[<matplotlib.lines.Line2D at 0x2a692967670>]"
      ]
     },
     "execution_count": 6,
     "metadata": {},
     "output_type": "execute_result"
    },
    {
     "data": {
      "image/png": "[encoded data removed]",
      "text/plain": [
       "<Figure size 864x504 with 1 Axes>"
      ]
     },
     "metadata": {
      "needs_background": "light"
     },
     "output_type": "display_data"
    }
   ],
   "source": [
    "pop.sort(key=lambda x: x.fitness, reverse=True) #直接對pop進行排序，適應度高的在前面\n",
    "print(pop[0].string)\n",
    "#小編補充：結果視覺化#\n",
    "plt.figure(figsize=(12,7))\n",
    "plt.xlabel(\"Generations\",fontsize=22)\n",
    "plt.ylabel(\"Fitness\",fontsize=22)\n",
    "plt.plot(pop_fit)"
   ]
  },
  {
   "cell_type": "markdown",
   "metadata": {
    "id": "XKN91jssjGpg"
   },
   "source": [
    "### 小編補充測試：\n",
    "\n",
    "    "
   ]
  },
  {
   "cell_type": "code",
   "execution_count": 7,
   "metadata": {
    "colab": {
     "base_uri": "https://localhost:8080/",
     "height": 505
    },
    "id": "7uY78ATPjF6R",
    "outputId": "68f41981-e8ce-4c80-c027-36e11ffb7aa8"
   },
   "outputs": [
    {
     "name": "stdout",
     "output_type": "stream",
     "text": [
      "Target Found! at gen=21\n",
      "Hello World!\n"
     ]
    },
    {
     "data": {
      "text/plain": [
       "[<matplotlib.lines.Line2D at 0x2a6932b5580>]"
      ]
     },
     "execution_count": 7,
     "metadata": {},
     "output_type": "execute_result"
    },
    {
     "data": {
      "image/png": "[encoded data removed]",
      "text/plain": [
       "<Figure size 864x504 with 1 Axes>"
      ]
     },
     "metadata": {
      "needs_background": "light"
     },
     "output_type": "display_data"
    }
   ],
   "source": [
    "def similar(a, b): #改為比較同位置的字元, 並以相同的比例做為適應度分數\n",
    "  cnt = 0\n",
    "  for i in range(len(a)):\n",
    "    if a[i] == b[i]:\n",
    "      cnt += 1\n",
    "  return cnt / len(a)\n",
    "  \n",
    "pop_fit = []\n",
    "pop = spawn_population(size=population_size, length=str_len) #建立初始族群\n",
    "done = False\n",
    "for gen in range(num_generations):\n",
    "  pop, avg_fit = evaluate_population(pop, target)\n",
    "  pop_fit.append(avg_fit) #將訓練過程中，每個世代的族群平均適應度記錄下來\n",
    "  new_pop = next_generation(pop,size=population_size, length=str_len, mut_rate=mutation_rate)\n",
    "  pop = new_pop\n",
    "  for x in pop:\n",
    "    if x.string == target: \n",
    "      if not done: print(f\"Target Found! at gen={gen}\")\n",
    "      done = True\n",
    "\n",
    "pop.sort(key=lambda x: x.fitness, reverse=True) #直接對pop進行排序，適應度高的在前面\n",
    "print(pop[0].string)\n",
    "plt.figure(figsize=(12,7))\n",
    "plt.xlabel(\"Generations\",fontsize=22)\n",
    "plt.ylabel(\"Fitness\",fontsize=22)\n",
    "plt.plot(pop_fit)\n"
   ]
  },
  {
   "cell_type": "markdown",
   "metadata": {
    "id": "zzHU4ucoqbaa"
   },
   "source": [
    "## 程式 6.5： 定義代理人"
   ]
  },
  {
   "cell_type": "code",
   "execution_count": 8,
   "metadata": {
    "id": "sNwcDZjfqghk"
   },
   "outputs": [],
   "source": [
    "import random \n",
    "import numpy as np\n",
    "import torch\n",
    "\n",
    "def model(x,unpacked_params):\n",
    "  l1,b1,l2,b2,l3,b3 = unpacked_params #對參數向量進行拆解，將不同層的參數矩陣獨立出來\n",
    "  y = torch.nn.functional.linear(x,l1,b1) #加入包含偏值的簡單線性層\n",
    "  y = torch.relu(y) #以ReLU函數做為激活函數\n",
    "  y = torch.nn.functional.linear(y,l2,b2)\n",
    "  y = torch.relu(y)\n",
    "  y = torch.nn.functional.linear(y,l3,b3)\n",
    "  y = torch.log_softmax(y,dim=0) #輸出各動作的對數化機率\n",
    "  return y"
   ]
  },
  {
   "cell_type": "markdown",
   "metadata": {
    "id": "inKxeFUms8QM"
   },
   "source": [
    "## 程式 6.6： 拆解參數向量"
   ]
  },
  {
   "cell_type": "code",
   "execution_count": 9,
   "metadata": {
    "id": "v8AWc21-tBQ3"
   },
   "outputs": [],
   "source": [
    "def unpack_params(params, layers=[(25,4),(10,25),(2,10)]): #定義每一層網路的矩陣形狀\n",
    "  unpacked_params = [] #儲存每一層網路的權重及偏值\n",
    "  e = 0\n",
    "  for i,layer in enumerate(layers): #逐一走訪網路中的每一層\n",
    "    s,e = e,e+np.prod(layer) #計算目前層權重資料的索引位置（由s到e），例如第一層，s = 0， e = 25x4 = 100  \n",
    "    weights = params[s:e].view(layer) #取出目前層的權重參數並轉成矩陣形式，例如第一層會取出params[0:100]並轉成25x4的權重矩陣\n",
    "    s,e = e,e+layer[0] # 計算目前層偏值資料的索引位置（由s到e），例如第一層，s = 100， e = 100+25 = 125\n",
    "    bias = params[s:e] #取出目前層的偏值參數並轉成矩陣形式，例如第一層會取出params[100:125]並轉成1x25的偏值向量\n",
    "    unpacked_params.extend([weights,bias]) #將獨立出來的張量存入串列中\n",
    "  return unpacked_params"
   ]
  },
  {
   "cell_type": "markdown",
   "metadata": {
    "id": "PYG4Alm9xekA"
   },
   "source": [
    "## 程式 6.7： 產生族群"
   ]
  },
  {
   "cell_type": "code",
   "execution_count": 10,
   "metadata": {
    "id": "Qv9vBFn0xhpX"
   },
   "outputs": [],
   "source": [
    "def spawn_population(N,size): #N代表族群中的個體數量，size則是參數向量的參數總數\n",
    "  pop = []\n",
    "  for i in range(N):\n",
    "    vec = torch.randn(size) / 2.0 #隨機產生一個初始參數向量\n",
    "    fit = 0\n",
    "    p = {'params':vec, 'fitness':fit} #將參數向量和它的適應度分數存入字典中，代表一個代理人\n",
    "    pop.append(p) #將代理人加入串列中\n",
    "  return pop"
   ]
  },
  {
   "cell_type": "markdown",
   "metadata": {
    "id": "-zZ--4tpySJt"
   },
   "source": [
    "## 程式 6.8： 基因重組"
   ]
  },
  {
   "cell_type": "code",
   "execution_count": 11,
   "metadata": {
    "id": "6balJjf5yVKS"
   },
   "outputs": [],
   "source": [
    "def recombine(x1,x2): #x1和x2代表『親代』代理人，資料型別為字典\n",
    "  x1 = x1['params'] #將代理人的參數向量抽取出來\n",
    "  x2 = x2['params']\n",
    "  n = x1.shape[0] #取得參數向量的長度\n",
    "  split_pt = np.random.randint(n) #隨機產生一整數，代表重組時的切割位置\n",
    "  child1 = torch.zeros(n)\n",
    "  child2 = torch.zeros(n)\n",
    "  child1[0:split_pt] = x1[0:split_pt] #第一個後代是由x1的前段和x2的後段組合而成\n",
    "  child1[split_pt:] = x2[split_pt:]\n",
    "  child2[0:split_pt] = x2[0:split_pt] #第二個後代是由x2的前段和x1的後段組合而成\n",
    "  child2[split_pt:] = x1[split_pt:]\n",
    "  c1 = {'params':child1, 'fitness': 0.0} #{將新產生的兩個參數向量分別存入字典中，產生兩個後代代理人\n",
    "  c2 = {'params':child2, 'fitness': 0.0}\n",
    "  return c1, c2"
   ]
  },
  {
   "cell_type": "markdown",
   "metadata": {
    "id": "gSZFnySx0urO"
   },
   "source": [
    "## 程式 6.9： 使參數向量突變"
   ]
  },
  {
   "cell_type": "code",
   "execution_count": 12,
   "metadata": {
    "id": "iNanuDvE0xQi"
   },
   "outputs": [],
   "source": [
    "def mutate(x, rate): #rate代表突變率\n",
    "  x_ = x['params'] #取出參數向量\n",
    "  num_to_change = int(rate * x_.shape[0]) #使用突變率來決定參數向量中有多少參數發生突變\n",
    "  idx = np.random.randint(low=0,high=x_.shape[0],size=(num_to_change,)) #產生要替換數值的索引位置串列\n",
    "  x_[idx] = torch.randn(num_to_change) / 10.0 #將參數向量中指定位置的參數，替換成標準常態分佈的隨機值\n",
    "  x['params'] = x_\n",
    "  return x"
   ]
  },
  {
   "cell_type": "markdown",
   "metadata": {
    "id": "kWDy5UmI19iO"
   },
   "source": [
    "### 安裝gym環境"
   ]
  },
  {
   "cell_type": "code",
   "execution_count": 13,
   "metadata": {
    "colab": {
     "base_uri": "https://localhost:8080/"
    },
    "id": "dKHoAPX-2BPs",
    "outputId": "fb2d841b-8410-46a7-d104-df78b2b1336a"
   },
   "outputs": [
    {
     "name": "stdout",
     "output_type": "stream",
     "text": [
      "Collecting gym[classic_control]\n",
      "  Downloading gym-0.18.0.tar.gz (1.6 MB)\n",
      "Requirement already satisfied: scipy in c:\\users\\admin\\anaconda3\\lib\\site-packages (from gym[classic_control]) (1.5.0)\n",
      "Requirement already satisfied: numpy>=1.10.4 in c:\\users\\admin\\anaconda3\\lib\\site-packages (from gym[classic_control]) (1.18.5)\n",
      "Collecting pyglet<=1.5.0,>=1.4.0\n",
      "  Downloading pyglet-1.5.0-py2.py3-none-any.whl (1.0 MB)\n",
      "Requirement already satisfied: Pillow<=7.2.0 in c:\\users\\admin\\anaconda3\\lib\\site-packages (from gym[classic_control]) (7.2.0)\n",
      "Requirement already satisfied: cloudpickle<1.7.0,>=1.2.0 in c:\\users\\admin\\anaconda3\\lib\\site-packages (from gym[classic_control]) (1.5.0)\n",
      "Requirement already satisfied: future in c:\\users\\admin\\anaconda3\\lib\\site-packages (from pyglet<=1.5.0,>=1.4.0->gym[classic_control]) (0.18.2)\n",
      "Building wheels for collected packages: gym\n",
      "  Building wheel for gym (setup.py): started\n",
      "  Building wheel for gym (setup.py): finished with status 'done'\n",
      "  Created wheel for gym: filename=gym-0.18.0-py3-none-any.whl size=1656456 sha256=89c67390dbd8fa03b8ecaa3808f1d944b6e6fc04cb70e97c35f3bab626e70038\n",
      "  Stored in directory: c:\\users\\admin\\appdata\\local\\pip\\cache\\wheels\\d8\\e7\\68\\a3f0f1b5831c9321d7523f6fd4e0d3f83f2705a1cbd5daaa79\n",
      "Successfully built gym\n",
      "Installing collected packages: pyglet, gym\n",
      "Successfully installed gym-0.18.0 pyglet-1.5.0\n"
     ]
    }
   ],
   "source": [
    "!pip install gym[classic_control]"
   ]
  },
  {
   "cell_type": "markdown",
   "metadata": {
    "id": "ud2hwB9t39wK"
   },
   "source": [
    "## 程式 6.10： 在環境中測試代理人"
   ]
  },
  {
   "cell_type": "code",
   "execution_count": 14,
   "metadata": {
    "id": "A35svl0L2Dx6"
   },
   "outputs": [],
   "source": [
    "import gym\n",
    "env = gym.make(\"CartPole-v0\")\n",
    "\n",
    "def test_model(agent):\n",
    "  done = False\n",
    "  state = torch.from_numpy(env.reset()).float()\n",
    "  score = 0 #追蹤遊戲進行了多少步，並以此做為代理人的得分\n",
    "  while not done: #只要遊戲還沒有輸便持續執行迴圈\n",
    "    params = unpack_params(agent['params'])\n",
    "    probs = model(state, params) #將代理人的參數套入模型中，並產生各動作的機率分佈\n",
    "    action = torch.distributions.Categorical(probs=probs).sample() #依照各動作的機率分佈，隨機選擇一個動作\n",
    "    state_, reward, done, info = env.step(action.item())\n",
    "    state = torch.from_numpy(state_).float()\n",
    "    score += 1 #追蹤遊戲進行了多少步，並以此做為代理人的得分\n",
    "  return score"
   ]
  },
  {
   "cell_type": "markdown",
   "metadata": {
    "id": "kWZeKwrF4GMx"
   },
   "source": [
    "## 程式 6.11： 測試族群中的所有代理人"
   ]
  },
  {
   "cell_type": "code",
   "execution_count": 15,
   "metadata": {
    "id": "QeKu7SrW4NUs"
   },
   "outputs": [],
   "source": [
    "def evaluate_population(pop):\n",
    "  tot_fit = 0 #儲存族群的總適應度，可用來計算族群的平均適應度 \n",
    "  for agent in pop: #測試族群中的每一位代理人\n",
    "    score = test_model(agent) #在環境中執行代理人，評估其適應度\n",
    "    agent['fitness'] = score #將代理人的適應度儲存起來\n",
    "    tot_fit += score\n",
    "  avg_fit = tot_fit / len(pop) #計算族群的平均適應度\n",
    "  return pop, avg_fit"
   ]
  },
  {
   "cell_type": "markdown",
   "metadata": {
    "id": "QW8uo37k-KM5"
   },
   "source": [
    "## 程式 6.12： 產生下一代"
   ]
  },
  {
   "cell_type": "code",
   "execution_count": 16,
   "metadata": {
    "id": "Glhvc4DK-OtG"
   },
   "outputs": [],
   "source": [
    "def next_generation(pop,mut_rate,tournament_size):\n",
    "  new_pop = []\n",
    "  lp = len(pop)\n",
    "  while len(new_pop) < len(pop): #若後代族群尚未被填滿，則持續執行迴圈\n",
    "    rids = np.random.randint(low=0,high=lp,size=(int(tournament_size*lp))) #選擇一定比例的族群個體組成子集（將它們的索引存到 rids）\n",
    "    batch = np.array([[i,x['fitness']] for (i,x) in enumerate(pop) if i in rids]) #從族群中挑選代理人組成代理人批次，並記錄這些代理人在原始族群中的索引值，以及它們的適應度。\n",
    "    scores = batch[batch[:, 1].argsort()] #將批次中的代理人依照適應度由低至高排序\n",
    "    i0, i1 = int(scores[-1][0]),int(scores[-2][0]) #順序位於最下方的代理人具有最高的適應度；此處選擇最末的兩個代理人做為親代\n",
    "    parent0,parent1 = pop[i0],pop[i1]\n",
    "    offspring_ = recombine(parent0,parent1) #將親代重組成後代\n",
    "    child1 = mutate(offspring_[0], rate=mut_rate) #在放入後代族群前，對新代理人進行突變處理\n",
    "    child2 = mutate(offspring_[1], rate=mut_rate)\n",
    "    offspring = [child1, child2]\n",
    "    new_pop.extend(offspring)\n",
    "  return new_pop"
   ]
  },
  {
   "cell_type": "markdown",
   "metadata": {
    "id": "PyZLwYRlBYoy"
   },
   "source": [
    "## 程式 6.13： 訓練模型"
   ]
  },
  {
   "cell_type": "code",
   "execution_count": null,
   "metadata": {
    "id": "kk8tf9ZEBcVi"
   },
   "outputs": [],
   "source": [
    "num_generations = 20 #進化過程的世代數（經歷20代的繁衍）\n",
    "population_size = 500 #每一代族群中的個體數\n",
    "mutation_rate = 0.01 #突變率\n",
    "pop_fit = []\n",
    "pop = spawn_population(N=population_size,size=407) #產生初始族群\n",
    "for i in range(num_generations):\n",
    "  pop, avg_fit = evaluate_population(pop) #評估族群中每一個代理人的適應度（得分）\n",
    "  pop_fit.append(avg_fit)\n",
    "  pop = next_generation(pop, mut_rate=mutation_rate,tournament_size=0.2) #產生後代族群"
   ]
  },
  {
   "cell_type": "markdown",
   "metadata": {
    "id": "NN_0f3TmHO9l"
   },
   "source": [
    "### 小編補充：結果視覺化"
   ]
  },
  {
   "cell_type": "code",
   "execution_count": null,
   "metadata": {
    "colab": {
     "base_uri": "https://localhost:8080/",
     "height": 471
    },
    "id": "41kQ61T5HSl_",
    "outputId": "526be8e6-0717-4a62-f0e0-1d41f5e7e001"
   },
   "outputs": [],
   "source": [
    "def running_mean(x, N=50):\n",
    "  kernel = np.ones(N)\n",
    "  conv_len = x.shape[0]-N\n",
    "  y = np.zeros(conv_len)\n",
    "  for i in range(conv_len):\n",
    "    y[i] = kernel @ x[i:i+N]\n",
    "    y[i] /= N\n",
    "  return y\n",
    "    \n",
    "plt.figure(figsize=(12,7))\n",
    "plt.xlabel(\"Generations\",fontsize=22)\n",
    "plt.ylabel(\"Score\",fontsize=22)\n",
    "plt.plot(running_mean(np.array(pop_fit),3))"
   ]
  },
  {
   "cell_type": "markdown",
   "metadata": {
    "id": "FHo_RKdn8QAQ"
   },
   "source": [
    "## 程式 6.14： 設定隨機種子"
   ]
  },
  {
   "cell_type": "code",
   "execution_count": null,
   "metadata": {
    "colab": {
     "base_uri": "https://localhost:8080/"
    },
    "id": "GcTL_BVq8Xos",
    "outputId": "114dcdc7-7e1f-4266-91eb-7c07a6abe7d1"
   },
   "outputs": [],
   "source": [
    "import numpy as np\n",
    "np.random.seed(10) #設定隨機種子為10\n",
    "np.random.rand(4) #隨機生成4個數字"
   ]
  },
  {
   "cell_type": "code",
   "execution_count": null,
   "metadata": {
    "colab": {
     "base_uri": "https://localhost:8080/"
    },
    "id": "QbEpZ1m1oqD9",
    "outputId": "4849e398-bf8d-4ce0-c1af-a44a8b8f6896"
   },
   "outputs": [],
   "source": [
    "np.random.seed(10)\n",
    "np.random.rand(4)"
   ]
  }
 ],
 "metadata": {
  "colab": {
   "collapsed_sections": [],
   "name": "F1384_第6章.ipynb",
   "provenance": [],
   "toc_visible": true
  },
  "kernelspec": {
   "display_name": "Python 3",
   "language": "python",
   "name": "python3"
  },
  "language_info": {
   "codemirror_mode": {
    "name": "ipython",
    "version": 3
   },
   "file_extension": ".py",
   "mimetype": "text/x-python",
   "name": "python",
   "nbconvert_exporter": "python",
   "pygments_lexer": "ipython3",
   "version": "3.8.3"
  }
 },
 "nbformat": 4,
 "nbformat_minor": 1
}
