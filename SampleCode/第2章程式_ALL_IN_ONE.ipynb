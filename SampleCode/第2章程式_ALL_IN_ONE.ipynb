{
 "cells": [
  {
   "cell_type": "markdown",
   "metadata": {
    "id": "wbK9HAiUhT3J"
   },
   "source": [
    "# 程式 2.1: 利用平均(期望)獎金找出最佳動作"
   ]
  },
  {
   "cell_type": "code",
   "execution_count": 1,
   "metadata": {
    "id": "Dn1rBwQWgizJ"
   },
   "outputs": [],
   "source": [
    "def get_best_action(actions,history):\n",
    "    best_action = 0\n",
    "    max_action_value = 0\n",
    "    for i in range(len(actions)):\n",
    "        cur_action_value = exp_reward(actions[i],history) #這個函式可以用NumPy的argmax()來取代，請參考程式2.5\n",
    "        if cur_action_value > max_action_value:\n",
    "            best_action = i #若cur_action_value比較大，即更新索引best_action的值\n",
    "            max_action_value = cur_action_value\n",
    "    return best_action"
   ]
  },
  {
   "cell_type": "markdown",
   "metadata": {
    "id": "S73SWefwhZCT"
   },
   "source": [
    "# 程式 2.2: 設定ε值及不同拉霸機的中獎率"
   ]
  },
  {
   "cell_type": "code",
   "execution_count": 2,
   "metadata": {
    "id": "MPg14hRhiWUW"
   },
   "outputs": [],
   "source": [
    "import numpy as np\n",
    "from scipy import stats\n",
    "import random\n",
    "import matplotlib.pyplot as plt \n",
    "\n",
    "n = 10 #設定拉霸機的數量\n",
    "probs = np.random.rand(n) #隨機設定不同拉霸機的中獎率（0～1之間）\n",
    "eps = 0.2 #設定ε為0.2"
   ]
  },
  {
   "cell_type": "markdown",
   "metadata": {
    "id": "1sA5u46QYP-g"
   },
   "source": [
    "# 程式 2.3: 把中獎率轉成中獎金額"
   ]
  },
  {
   "cell_type": "code",
   "execution_count": 3,
   "metadata": {
    "id": "MXBYfK0NibwN"
   },
   "outputs": [],
   "source": [
    "def get_reward(prob): #prob為某臺拉霸機的中獎率，注意prob和之前的probs不同，probs是所有拉霸機的中獎率構成的陣列\n",
    "    reward = 0\n",
    "    for i in range(10): \t\n",
    "        if random.random() < prob: #編註：因為random()會產生均勻分佈的亂數，所以在10次迴圈中，產生的亂數值小於prob的次數會正比於prob的大小\n",
    "            reward += 1 #若隨機產生的數字小於中獎率，就把reward加1\n",
    "    return reward #傳回reward值(存有本次遊戲中開出的獎金)"
   ]
  },
  {
   "cell_type": "code",
   "execution_count": 4,
   "metadata": {
    "colab": {
     "base_uri": "https://localhost:8080/"
    },
    "id": "JAeEVo_ME5Gc",
    "outputId": "60616e53-3e73-4ecc-e56b-98f890fd56da"
   },
   "outputs": [
    {
     "data": {
      "text/plain": [
       "7.0455"
      ]
     },
     "execution_count": 4,
     "metadata": {},
     "output_type": "execute_result"
    }
   ],
   "source": [
    "np.mean([get_reward(0.7) for _ in range(2000)]) #執行2000次get_reward()，並取結果的平均值"
   ]
  },
  {
   "cell_type": "code",
   "execution_count": 5,
   "metadata": {
    "colab": {
     "base_uri": "https://localhost:8080/"
    },
    "id": "3d13r-bCFRKI",
    "outputId": "4f183dab-ea9e-45bd-99be-5ce0e430d568"
   },
   "outputs": [
    {
     "name": "stdout",
     "output_type": "stream",
     "text": [
      "22\n"
     ]
    }
   ],
   "source": [
    "sum = 0\n",
    "x = [4, 5, 6, 7]\n",
    "for i in range (len(x)):\n",
    "    sum = sum +x[i]\n",
    "print(sum)"
   ]
  },
  {
   "cell_type": "code",
   "execution_count": 6,
   "metadata": {
    "colab": {
     "base_uri": "https://localhost:8080/"
    },
    "id": "CLKS4P1tFd5x",
    "outputId": "f73360f5-6f9f-4f62-b0f2-44cac9afa65e"
   },
   "outputs": [
    {
     "data": {
      "text/plain": [
       "array([[0., 0.],\n",
       "       [0., 0.],\n",
       "       [0., 0.],\n",
       "       [0., 0.],\n",
       "       [0., 0.],\n",
       "       [0., 0.],\n",
       "       [0., 0.],\n",
       "       [0., 0.],\n",
       "       [0., 0.],\n",
       "       [0., 0.]])"
      ]
     },
     "execution_count": 6,
     "metadata": {},
     "output_type": "execute_result"
    }
   ],
   "source": [
    "record = np.zeros((10,2))\n",
    "record"
   ]
  },
  {
   "cell_type": "markdown",
   "metadata": {
    "id": "bQhDpP5lhh_o"
   },
   "source": [
    "# 程式 2.4：更新record內容"
   ]
  },
  {
   "cell_type": "code",
   "execution_count": 7,
   "metadata": {
    "id": "SbRKuFdmijYG"
   },
   "outputs": [],
   "source": [
    "def update_record(record,action,r):\n",
    "    r_ave = (record[action,0] * record[action,1] + r) / (record[action,0] + 1) #算出新的平均值\n",
    "    record[action,0] += 1 #action號機台的拉桿次數加1\n",
    "    record[action,1] = r_ave #更新該機台的平均獎金\n",
    "    return record"
   ]
  },
  {
   "cell_type": "markdown",
   "metadata": {
    "id": "DBS69qBBhmL9"
   },
   "source": [
    "# 程式 2.5：找出最佳動作"
   ]
  },
  {
   "cell_type": "code",
   "execution_count": 8,
   "metadata": {
    "id": "ynP8EEftimDi"
   },
   "outputs": [],
   "source": [
    "def get_best_arm(record):\n",
    "    arm_index = np.argmax(record[:,1]) #找出record中第一行的元素中，值最大的元素索引\n",
    "    return arm_index"
   ]
  },
  {
   "cell_type": "markdown",
   "metadata": {
    "id": "R3N7g4Uwhv3n"
   },
   "source": [
    "# 程式 2.6：解決多臂拉霸機問題"
   ]
  },
  {
   "cell_type": "code",
   "execution_count": 9,
   "metadata": {
    "colab": {
     "base_uri": "https://localhost:8080/"
    },
    "id": "98M_gHCnio8H",
    "outputId": "3fae45de-892e-4ec3-b5d9-7110382d70c0"
   },
   "outputs": [
    {
     "data": {
      "text/plain": [
       "<matplotlib.collections.PathCollection at 0x1f0f1a8d880>"
      ]
     },
     "execution_count": 9,
     "metadata": {},
     "output_type": "execute_result"
    },
    {
     "data": {
      "image/png": "[encoded data removed]",
      "text/plain": [
       "<Figure size 648x360 with 1 Axes>"
      ]
     },
     "metadata": {
      "needs_background": "light"
     },
     "output_type": "display_data"
    }
   ],
   "source": [
    "fig,ax = plt.subplots(1,1)\n",
    "ax.set_xlabel(\"Plays\")\n",
    "ax.set_ylabel(\"Average Reward\")\n",
    "fig.set_size_inches(9,5)\n",
    "record = np.zeros((n,2)) #先產生一個初始值全部為零的record陣列\n",
    "probs = np.random.rand(n) #隨機決定每台拉霸機的中獎率\n",
    "rewards = [0] #記錄每次拉桿後，計算出的總體平均獎金\n",
    "for i in range(500):\n",
    "    if random.random() > eps: #利用（找出平均獎金最高的機台號碼choice，之前我們叫做action）\n",
    "        choice = get_best_arm(record)\n",
    "    else: #探索（隨機選出一個機台號碼）\n",
    "        choice = np.random.randint(10)\n",
    "    r = get_reward(probs[choice]) #取得此次遊戲會得到的獎金\n",
    "    record = update_record(record,choice,r) #更新record陣列中與該拉霸機號碼對應的遊戲次數和平均獎金\n",
    "    mean_reward = ((i+1) * rewards[-1] + r)/(i+2) #計算最新的總體平均獎金\n",
    "    rewards.append(mean_reward) #記錄到rewards串列\n",
    "ax.scatter(np.arange(len(rewards)),rewards) #畫出散佈圖"
   ]
  },
  {
   "cell_type": "markdown",
   "metadata": {
    "id": "YsCgSDt6GiDA"
   },
   "source": [
    "# 程式 2.7：softmax函式"
   ]
  },
  {
   "cell_type": "code",
   "execution_count": 10,
   "metadata": {
    "id": "KjNHdUWPi9bw"
   },
   "outputs": [],
   "source": [
    "def softmax(av, tau=1.12):#av即動作價值陣列，tau即溫度參數（預設值=1.12）\n",
    "    softm = ( np.exp(av / tau) / np.sum( np.exp(av / tau) ) )\n",
    "    return softm"
   ]
  },
  {
   "cell_type": "code",
   "execution_count": 11,
   "metadata": {
    "colab": {
     "base_uri": "https://localhost:8080/"
    },
    "id": "gLGTfgZyGvLp",
    "outputId": "a577cc66-0aca-40ff-b217-841aa3d23dc2"
   },
   "outputs": [
    {
     "data": {
      "text/plain": [
       "array([0, 1, 2, 3, 4, 5, 6, 7, 8, 9])"
      ]
     },
     "execution_count": 11,
     "metadata": {},
     "output_type": "execute_result"
    }
   ],
   "source": [
    "action = np.arange(10) #產生一個對應到拉霸機號碼的數字陣列\n",
    "action"
   ]
  },
  {
   "cell_type": "code",
   "execution_count": 12,
   "metadata": {
    "colab": {
     "base_uri": "https://localhost:8080/"
    },
    "id": "YjQLsUtrG0Hn",
    "outputId": "4e13ff2e-a0eb-42a2-9b00-fb3a26788bed"
   },
   "outputs": [
    {
     "data": {
      "text/plain": [
       "array([0.1, 0.1, 0.1, 0.1, 0.1, 0.1, 0.1, 0.1, 0.1, 0.1])"
      ]
     },
     "execution_count": 12,
     "metadata": {},
     "output_type": "execute_result"
    }
   ],
   "source": [
    "action_value = np.zeros(10) #將所有動作的價值初始化為0\n",
    "p = softmax(action_value) #把動作價值轉換為機率值，並存進陣列p中\n",
    "p"
   ]
  },
  {
   "cell_type": "code",
   "execution_count": 13,
   "metadata": {
    "colab": {
     "base_uri": "https://localhost:8080/"
    },
    "id": "zqdT3eqyHN26",
    "outputId": "c65628f9-33b6-4ec8-a49f-0e2a41062172"
   },
   "outputs": [
    {
     "data": {
      "text/plain": [
       "1"
      ]
     },
     "execution_count": 13,
     "metadata": {},
     "output_type": "execute_result"
    }
   ],
   "source": [
    "np.random.choice(action, p=p) #按照陣列p中的機率分佈隨機選擇一個動作"
   ]
  },
  {
   "cell_type": "markdown",
   "metadata": {
    "id": "oi1BzToSHlHo"
   },
   "source": [
    "# 程式 2.8：使用softmax解決多臂拉霸機問題"
   ]
  },
  {
   "cell_type": "code",
   "execution_count": 14,
   "metadata": {
    "colab": {
     "base_uri": "https://localhost:8080/"
    },
    "id": "FPdIRyqvjFXl",
    "outputId": "43601f45-bbd3-463d-ae67-e847c84fd1a9"
   },
   "outputs": [
    {
     "data": {
      "text/plain": [
       "<matplotlib.collections.PathCollection at 0x1f0f1af5490>"
      ]
     },
     "execution_count": 14,
     "metadata": {},
     "output_type": "execute_result"
    },
    {
     "data": {
      "image/png": "[encoded data removed]",
      "text/plain": [
       "<Figure size 648x360 with 1 Axes>"
      ]
     },
     "metadata": {
      "needs_background": "light"
     },
     "output_type": "display_data"
    }
   ],
   "source": [
    "n = 10\n",
    "probs = np.random.rand(n)\n",
    "record = np.zeros((n,2))\n",
    "fig,ax = plt.subplots(1,1)\n",
    "ax.set_xlabel(\"Plays\")\n",
    "ax.set_ylabel(\"Avg Reward\")\n",
    "fig.set_size_inches(9,5)\n",
    "rewards = [0]\n",
    "for i in range(500):\n",
    "    p = softmax(record[:,1],tau=0.7) #根據每個動作的價值計算出相應的機率值\n",
    "    choice = np.random.choice(np.arange(n),p=p) #根據p陣列中的機率分佈隨機選擇一個動作\n",
    "    r = get_reward(probs[choice])\n",
    "    record = update_record(record,choice,r)\n",
    "    mean_reward = ((i+1) * rewards[-1] + r)/(i+2) #計算最新的總體平均獎金\n",
    "    rewards.append(mean_reward)\n",
    "ax.scatter(np.arange(len(rewards)),rewards) #畫出散佈圖"
   ]
  },
  {
   "cell_type": "code",
   "execution_count": 15,
   "metadata": {
    "colab": {
     "base_uri": "https://localhost:8080/"
    },
    "id": "sLVrvEw-Hx7p",
    "outputId": "7d9b4577-869b-43a8-de6f-77e57c0f6df4"
   },
   "outputs": [
    {
     "data": {
      "text/plain": [
       "tensor([[1., 2., 3.],\n",
       "        [4., 5., 6.]])"
      ]
     },
     "execution_count": 15,
     "metadata": {},
     "output_type": "execute_result"
    }
   ],
   "source": [
    "import torch\n",
    "torch.Tensor([[1,2,3],[4,5,6]])"
   ]
  },
  {
   "cell_type": "code",
   "execution_count": 16,
   "metadata": {
    "colab": {
     "base_uri": "https://localhost:8080/"
    },
    "id": "lQFkC0KPH6m6",
    "outputId": "0d43f50f-a7af-4f67-c5f0-954d18fb0336"
   },
   "outputs": [
    {
     "data": {
      "text/plain": [
       "torch.Size([2, 3])"
      ]
     },
     "execution_count": 16,
     "metadata": {},
     "output_type": "execute_result"
    }
   ],
   "source": [
    "Y = torch.Tensor([[1,2,3],[4,5,6]])\n",
    "Y.shape"
   ]
  },
  {
   "cell_type": "code",
   "execution_count": 17,
   "metadata": {
    "colab": {
     "base_uri": "https://localhost:8080/"
    },
    "id": "dIAU1piWIDgl",
    "outputId": "c19c63d7-104b-4657-e716-5b5d71e51709"
   },
   "outputs": [
    {
     "data": {
      "text/plain": [
       "torch.Size([3])"
      ]
     },
     "execution_count": 17,
     "metadata": {},
     "output_type": "execute_result"
    }
   ],
   "source": [
    "X = torch.Tensor([1,2,3])\n",
    "X.shape"
   ]
  },
  {
   "cell_type": "code",
   "execution_count": 18,
   "metadata": {
    "colab": {
     "base_uri": "https://localhost:8080/"
    },
    "id": "hv63hSNjIMJN",
    "outputId": "7c3ff1f1-6d61-476e-9a07-027555cae78e"
   },
   "outputs": [
    {
     "data": {
      "text/plain": [
       "tensor([ -53.5109, -107.0218])"
      ]
     },
     "execution_count": 18,
     "metadata": {},
     "output_type": "execute_result"
    }
   ],
   "source": [
    "x = torch.Tensor([2,4]) #建立值為[2,4]的張量作為輸入張量\n",
    "m = torch.randn(2, requires_grad = True) #隨機產生一個『斜率』的張量\n",
    "b = torch.randn(1, requires_grad = True) #隨機產生一個『截距』的張量\n",
    "y = m*x + b #線性模型\n",
    "y_known = torch.Tensor([5,9]) #建立值為[5,9]的張量作為標籤張量（label)\n",
    "loss = (torch.sum(y_known-y)) ** 2 #建立損失函數（這裡選擇的是最簡單的平方誤差函數）\n",
    "loss.backward() #執行反向傳播計算梯度\n",
    "m.grad #利用grad屬性即可得到m張量的梯度"
   ]
  },
  {
   "cell_type": "markdown",
   "metadata": {
    "id": "r2KsQREp4uyR"
   },
   "source": [
    "# 程式 2.9：建立情境式拉霸機的環境"
   ]
  },
  {
   "cell_type": "code",
   "execution_count": 19,
   "metadata": {
    "id": "FtNoB66ejMyj"
   },
   "outputs": [],
   "source": [
    "import numpy as np\n",
    "import random\n",
    "\n",
    "class ContextBandit: #拉霸機環境類別\n",
    "    def __init__(self, arms=10):\n",
    "        self.arms = arms #這裡的arm代表廣告\n",
    "        self.init_distribution(arms)\n",
    "        self.update_state()\n",
    "\n",
    "    def init_distribution(self, arms):\n",
    "        states = arms  # 讓狀態數=廣告數以方便處理\n",
    "        self.bandit_matrix = np.random.rand(states,arms) #隨機產生的10種狀態下的10個arms的機率分佈（10*10種機率）\n",
    "\n",
    "    def reward(self, prob): #用途與前面的程式2.3相同\n",
    "        reward = 0\n",
    "        for i in range(self.arms):\n",
    "            if random.random() < prob:\n",
    "                reward += 1\n",
    "        return reward\n",
    "\n",
    "    def update_state(self):\n",
    "        self.state = np.random.randint(0,self.arms) #隨機產生一個新狀態\n",
    "\n",
    "    def get_state(self): #取得當前狀態\n",
    "        return self.state\n",
    "\n",
    "    def get_reward(self,arm):\n",
    "        return self.reward(self.bandit_matrix[self.get_state()][arm]) #根據當前狀態及選擇的arm傳回回饋值\n",
    "    \n",
    "    def choose_arm(self, arm): \n",
    "        reward = self.get_reward(arm)\n",
    "        self.update_state() #產生下一個狀態\n",
    "        return reward #傳回回饋值"
   ]
  },
  {
   "cell_type": "code",
   "execution_count": 20,
   "metadata": {
    "colab": {
     "base_uri": "https://localhost:8080/"
    },
    "id": "HMA-BjBj_3v4",
    "outputId": "07c85f75-faa4-4054-c518-57403b738acb"
   },
   "outputs": [
    {
     "name": "stdout",
     "output_type": "stream",
     "text": [
      "7 9\n"
     ]
    }
   ],
   "source": [
    "env = ContextBandit(arms=10) #創建一個環境\n",
    "state = env.get_state() #取得當前狀態\n",
    "reward = env.choose_arm(1) #在目前的狀態下選擇推送1號網站的廣告，並計算其回饋值\n",
    "print(state,reward)"
   ]
  },
  {
   "cell_type": "code",
   "execution_count": 21,
   "metadata": {
    "id": "KmcgtO8R8BLL"
   },
   "outputs": [],
   "source": [
    "import numpy as np\n",
    "import torch\n",
    "arms = 10\n",
    "N, D_in, H, D_out, = 1, arms, 100, arms\n",
    "\n",
    "model = torch.nn.Sequential(\n",
    "    torch.nn.Linear(D_in, H), #隱藏層\n",
    "    torch.nn.ReLU(),\n",
    "    torch.nn.Linear(H, D_out), #輸出層\n",
    "    torch.nn.ReLU(),\n",
    ")\n",
    "\n",
    "loss_fn = torch.nn.MSELoss()\n",
    "env = ContextBandit(arms)"
   ]
  },
  {
   "cell_type": "code",
   "execution_count": 22,
   "metadata": {
    "colab": {
     "base_uri": "https://localhost:8080/"
    },
    "id": "K8_Vpc8VLyxG",
    "outputId": "fd71f90e-befa-4f23-e9b6-f5341d98782f"
   },
   "outputs": [
    {
     "name": "stdout",
     "output_type": "stream",
     "text": [
      "[0. 0. 0. 0. 1. 0. 0. 0. 0. 0.]\n"
     ]
    }
   ],
   "source": [
    "def one_hot(N, pos, val=1):\n",
    "\tone_hot_vec = np.zeros(N)\n",
    "\tone_hot_vec[pos] = val\n",
    "\treturn one_hot_vec\n",
    "\n",
    "A = one_hot(10, 4) #假設目前的狀態號碼為4\n",
    "print(A)"
   ]
  },
  {
   "cell_type": "markdown",
   "metadata": {
    "id": "4b5Q4WTTBGgE"
   },
   "source": [
    "# 程式 2.10：主要訓練迴圈"
   ]
  },
  {
   "cell_type": "code",
   "execution_count": 23,
   "metadata": {
    "id": "kbLRWlXxjSMm"
   },
   "outputs": [],
   "source": [
    "def train(env, epochs=10000, learning_rate=1e-2): #執行10000次訓練\n",
    "    cur_state = torch.Tensor(one_hot(arms,env.get_state())) #取得環境目前的狀態，並將其編碼為one-hot張量\n",
    "    optimizer = torch.optim.Adam(model.parameters(), lr=learning_rate)\n",
    "    rewards = []\n",
    "    for i in range(epochs):\n",
    "        y_pred = model(cur_state) #執行神經網路並預測回饋值\n",
    "        av_softmax = softmax(y_pred.data.numpy(), tau=1.12) #利用程式2.7定義的softmax()將預測結果轉換成機率分佈向量\n",
    "        choice = np.random.choice(arms, p=av_softmax) #依照softmax輸出的機率分佈來選取新動作\n",
    "        cur_reward = env.choose_arm(choice) #執行選擇的動作，並取得一個回饋值\n",
    "        one_hot_reward = y_pred.data.numpy().copy() #將資料型別由PyTorch張量轉換成Numpy陣列\n",
    "        one_hot_reward[choice] = cur_reward #更新one_hot_reward陣列的值，把它當作標籤（實際的回饋值）\n",
    "        reward = torch.Tensor(one_hot_reward)\n",
    "        rewards.append(cur_reward) #將回饋值存入rewards中，以便稍後繪製線圖\n",
    "        loss = loss_fn(y_pred, reward)\n",
    "        optimizer.zero_grad()\n",
    "        loss.backward()\n",
    "        optimizer.step()\n",
    "        cur_state = torch.Tensor(one_hot(arms,env.get_state())) #更新目前的環境狀態\n",
    "    return np.array(rewards)\n",
    "rewards = train(env) #開始訓練10000次"
   ]
  },
  {
   "cell_type": "code",
   "execution_count": 24,
   "metadata": {
    "colab": {
     "base_uri": "https://localhost:8080/"
    },
    "id": "gzjJo3eQ7wBq",
    "outputId": "941a99c3-752d-4857-f3a2-9e1fb5b9758f"
   },
   "outputs": [
    {
     "data": {
      "text/plain": [
       "[<matplotlib.lines.Line2D at 0x1f0f5a3ebb0>]"
      ]
     },
     "execution_count": 24,
     "metadata": {},
     "output_type": "execute_result"
    },
    {
     "data": {
      "image/png": "[encoded data removed]",
      "text/plain": [
       "<Figure size 1440x504 with 1 Axes>"
      ]
     },
     "metadata": {
      "needs_background": "light"
     },
     "output_type": "display_data"
    }
   ],
   "source": [
    "def running_mean(x,N =100): #定義一個可以算出移動平均回饋值的函式\n",
    "    c = x.shape[0] - N\n",
    "    y = np.zeros(c)\n",
    "    conv = np.ones(N)\n",
    "    for i in range(c):\n",
    "        y[i] = (x[i:i+N] @ conv)/N\n",
    "    return y\n",
    "\n",
    "plt.figure(figsize=(20,7))\n",
    "plt.ylabel(\"Average reward\",fontsize=14)\n",
    "plt.xlabel(\"Training Epochs\",fontsize=14)\n",
    "plt.plot(running_mean(rewards,N=50))"
   ]
  }
 ],
 "metadata": {
  "colab": {
   "name": "F1384_第2章.ipynb",
   "provenance": [],
   "toc_visible": true
  },
  "kernelspec": {
   "display_name": "Python 3",
   "language": "python",
   "name": "python3"
  },
  "language_info": {
   "codemirror_mode": {
    "name": "ipython",
    "version": 3
   },
   "file_extension": ".py",
   "mimetype": "text/x-python",
   "name": "python",
   "nbconvert_exporter": "python",
   "pygments_lexer": "ipython3",
   "version": "3.8.3"
  }
 },
 "nbformat": 4,
 "nbformat_minor": 1
}
