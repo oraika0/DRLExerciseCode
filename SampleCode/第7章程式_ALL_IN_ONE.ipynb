{
 "cells": [
  {
   "cell_type": "markdown",
   "metadata": {
    "id": "xlzI2PMZFjiN"
   },
   "source": [
    "## 表 7.2"
   ]
  },
  {
   "cell_type": "code",
   "execution_count": 1,
   "metadata": {
    "colab": {
     "base_uri": "https://localhost:8080/"
    },
    "id": "bNl3kt7-FIZD",
    "outputId": "ca36e47b-642b-42df-e995-e58151eba0ca"
   },
   "outputs": [
    {
     "data": {
      "text/plain": [
       "4.4"
      ]
     },
     "execution_count": 1,
     "metadata": {},
     "output_type": "execute_result"
    }
   ],
   "source": [
    "import numpy as np\n",
    "x = np.array([1, 2, 3, 4, 5, 6])\n",
    "p = np.array([0.1, 0.1, 0.1, 0.1, 0.2, 0.4])\n",
    "def expected_value(x,p):\n",
    "  return x @ p #將這兩個陣列進行內積計算\n",
    "expected_value(x,p)"
   ]
  },
  {
   "cell_type": "code",
   "execution_count": 2,
   "metadata": {
    "colab": {
     "base_uri": "https://localhost:8080/"
    },
    "id": "8FI4jiBlKMN5",
    "outputId": "aa9e1179-3c26-4a30-b893-5a2fc00b68fc"
   },
   "outputs": [
    {
     "data": {
      "text/plain": [
       "18.4"
      ]
     },
     "execution_count": 2,
     "metadata": {},
     "output_type": "execute_result"
    }
   ],
   "source": [
    "import numpy as np\n",
    "probs = np.array([0.6, 0.1, 0.1, 0.1, 0.1]) #所有可能的結果\n",
    "outcomes = np.array([18, 21, 17, 17, 21]) #各結果發生的機率\n",
    "expected_value = 0.0 #初始化期望值為0\n",
    "for i in range(probs.shape[0]):\n",
    "  expected_value += probs[i] * outcomes[i] #計算期望值\n",
    "expected_value"
   ]
  },
  {
   "cell_type": "code",
   "execution_count": 3,
   "metadata": {
    "colab": {
     "base_uri": "https://localhost:8080/"
    },
    "id": "G0_O_a17LofX",
    "outputId": "6cb73c0b-37a6-4476-b167-3b2b77b830da"
   },
   "outputs": [
    {
     "data": {
      "text/plain": [
       "18.4"
      ]
     },
     "execution_count": 3,
     "metadata": {},
     "output_type": "execute_result"
    }
   ],
   "source": [
    "expected_value = probs @ outcomes\n",
    "expected_value"
   ]
  },
  {
   "cell_type": "code",
   "execution_count": 4,
   "metadata": {
    "colab": {
     "base_uri": "https://localhost:8080/"
    },
    "id": "rT1cw0kjfyRo",
    "outputId": "0a8d5001-3f83-4b48-82d5-6e9373935829"
   },
   "outputs": [
    {
     "data": {
      "text/plain": [
       "array([17.99459127])"
      ]
     },
     "execution_count": 4,
     "metadata": {},
     "output_type": "execute_result"
    }
   ],
   "source": [
    "t0 = 18.4\n",
    "T = lambda: t0 + np.random.randn(1)\n",
    "T()"
   ]
  },
  {
   "cell_type": "markdown",
   "metadata": {
    "id": "NwfsjpOAMdnX"
   },
   "source": [
    "# 程式 7.1: 建立離散機率分佈"
   ]
  },
  {
   "cell_type": "code",
   "execution_count": 5,
   "metadata": {
    "colab": {
     "base_uri": "https://localhost:8080/",
     "height": 283
    },
    "id": "Nk4sLcywmW2Y",
    "outputId": "8e3a12c7-06f0-4021-8e79-e390174db650"
   },
   "outputs": [
    {
     "data": {
      "text/plain": [
       "<BarContainer object of 51 artists>"
      ]
     },
     "execution_count": 5,
     "metadata": {},
     "output_type": "execute_result"
    },
    {
     "data": {
      "image/png": "[encoded data removed]",
      "text/plain": [
       "<Figure size 432x288 with 1 Axes>"
      ]
     },
     "metadata": {
      "needs_background": "light"
     },
     "output_type": "display_data"
    }
   ],
   "source": [
    "import torch\n",
    "import numpy as np\n",
    "from matplotlib import pyplot as plt\n",
    "\n",
    "vmin,vmax = -10.,10. #設定支撐集的最小值與最大值\n",
    "nsup = 51 #設定支撐集的元素數量\n",
    "support = np.linspace(vmin,vmax,nsup) #support裡面的元素有51個，範圍介於-10到10之間，且元素間隔相等\n",
    "probs = np.ones(nsup)\n",
    "probs /= probs.sum()\n",
    "z3 = torch.from_numpy(probs).float() #將機率分佈存在z3中\n",
    "plt.bar(support,probs) #將分佈畫成長條圖"
   ]
  },
  {
   "cell_type": "code",
   "execution_count": 6,
   "metadata": {
    "colab": {
     "base_uri": "https://localhost:8080/"
    },
    "id": "7dYOyARgN3xr",
    "outputId": "cd761a87-c004-4548-a11b-ff79a71189fe"
   },
   "outputs": [
    {
     "data": {
      "text/plain": [
       "array([-10. ,  -9.6,  -9.2,  -8.8,  -8.4,  -8. ,  -7.6,  -7.2,  -6.8,\n",
       "        -6.4,  -6. ,  -5.6,  -5.2,  -4.8,  -4.4,  -4. ,  -3.6,  -3.2,\n",
       "        -2.8,  -2.4,  -2. ,  -1.6,  -1.2,  -0.8,  -0.4,   0. ,   0.4,\n",
       "         0.8,   1.2,   1.6,   2. ,   2.4,   2.8,   3.2,   3.6,   4. ,\n",
       "         4.4,   4.8,   5.2,   5.6,   6. ,   6.4,   6.8,   7.2,   7.6,\n",
       "         8. ,   8.4,   8.8,   9.2,   9.6,  10. ])"
      ]
     },
     "execution_count": 6,
     "metadata": {},
     "output_type": "execute_result"
    }
   ],
   "source": [
    "support"
   ]
  },
  {
   "cell_type": "markdown",
   "metadata": {
    "id": "M6bHnVyXZy1-"
   },
   "source": [
    "# 程式 7.2： 更新機率分佈"
   ]
  },
  {
   "cell_type": "code",
   "execution_count": 7,
   "metadata": {
    "id": "dwyR7hoUZ1Vj"
   },
   "outputs": [],
   "source": [
    "def update_dist(r,support,probs,lim=(-10.,10.),gamma=0.8):\n",
    "  nsup = probs.shape[0] #取得支撐集的元素數量\n",
    "  vmin,vmax = lim[0],lim[1] #取得支撐集內，元素值的上下限\n",
    "  dz = (vmax-vmin)/(nsup-1.) #計算支撐集中，元素的間隔大小\n",
    "  bj = np.round((r-vmin)/dz) #計算支撐集中，與回饋值對應的元素索引\n",
    "  bj = int(np.clip(bj,0,nsup-1)) #將輸出索引限制在[0,nsup-1]的範圍內，並對其做進位處理\n",
    "  m = probs.clone() #複製一份當前的機率分佈\n",
    "  j = 1\n",
    "  for i in range(bj,1,-1): #從左側的元素拿走一部分機率質量\n",
    "    m[i] += np.power(gamma,j) * m[i-1]\n",
    "    j += 1\n",
    "  j = 1\n",
    "  for i in range(bj,nsup-1,1): #從右側的元素拿走一部分機率質量\n",
    "    m[i] += np.power(gamma,j) * m[i+1]\n",
    "    j += 1\n",
    "  m /= m.sum() #將m陣列中的機率進行常規化，確保所有機率質量相加後等於1\n",
    "  return m"
   ]
  },
  {
   "cell_type": "code",
   "execution_count": 8,
   "metadata": {
    "colab": {
     "base_uri": "https://localhost:8080/"
    },
    "id": "siBAaHYWaTCx",
    "outputId": "518ebfbc-80f5-4848-99b5-9603914a8fa0"
   },
   "outputs": [
    {
     "data": {
      "text/plain": [
       "array([0.01960784, 0.01960784, 0.01960784, 0.01960784, 0.01960784,\n",
       "       0.01960784, 0.01960784, 0.01960784, 0.01960784, 0.01960784,\n",
       "       0.01960784, 0.01960784, 0.01960784, 0.01960784, 0.01960784,\n",
       "       0.01960784, 0.01960784, 0.01960784, 0.01960784, 0.01960784,\n",
       "       0.01960784, 0.01960784, 0.01960784, 0.01960784, 0.01960784,\n",
       "       0.01960784, 0.01960784, 0.01960784, 0.01960784, 0.01960784,\n",
       "       0.01960784, 0.01960784, 0.01960784, 0.01960784, 0.01960784,\n",
       "       0.01960784, 0.01960784, 0.01960784, 0.01960784, 0.01960784,\n",
       "       0.01960784, 0.01960784, 0.01960784, 0.01960784, 0.01960784,\n",
       "       0.01960784, 0.01960784, 0.01960784, 0.01960784, 0.01960784,\n",
       "       0.01960784])"
      ]
     },
     "execution_count": 8,
     "metadata": {},
     "output_type": "execute_result"
    }
   ],
   "source": [
    "probs"
   ]
  },
  {
   "cell_type": "markdown",
   "metadata": {
    "id": "ndBV75Mjd2D_"
   },
   "source": [
    "# 程式 7.3： 根據單一觀測結果重新分配機率質量"
   ]
  },
  {
   "cell_type": "code",
   "execution_count": 9,
   "metadata": {
    "colab": {
     "base_uri": "https://localhost:8080/",
     "height": 283
    },
    "id": "u3BWi51Zd4X-",
    "outputId": "f2bd1d15-490f-4a75-97d1-9aaf95c55ddf"
   },
   "outputs": [
    {
     "data": {
      "text/plain": [
       "<BarContainer object of 51 artists>"
      ]
     },
     "execution_count": 9,
     "metadata": {},
     "output_type": "execute_result"
    },
    {
     "data": {
      "image/png": "[encoded data removed]",
      "text/plain": [
       "<Figure size 432x288 with 1 Axes>"
      ]
     },
     "metadata": {
      "needs_background": "light"
     },
     "output_type": "display_data"
    }
   ],
   "source": [
    "ob_reward = -1 #假設觀測到的回饋值為-1\n",
    "Z = torch.from_numpy(probs).float()\n",
    "Z = update_dist(ob_reward,torch.from_numpy(support).float(),Z,lim=(vmin,vmax),gamma=0.1) #更新機率分佈\n",
    "plt.bar(support,Z)"
   ]
  },
  {
   "cell_type": "markdown",
   "metadata": {
    "id": "XPi3ePs2fHGw"
   },
   "source": [
    "# 程式 7.4： 根據一系列觀測結果重新分配機率質量"
   ]
  },
  {
   "cell_type": "code",
   "execution_count": 10,
   "metadata": {
    "colab": {
     "base_uri": "https://localhost:8080/",
     "height": 283
    },
    "id": "iDjC8_ZffJHc",
    "outputId": "dcdecbfd-a200-4ee3-8c72-bdc5b5627564"
   },
   "outputs": [
    {
     "data": {
      "text/plain": [
       "<BarContainer object of 51 artists>"
      ]
     },
     "execution_count": 10,
     "metadata": {},
     "output_type": "execute_result"
    },
    {
     "data": {
      "image/png": "[encoded data removed]",
      "text/plain": [
       "<Figure size 432x288 with 1 Axes>"
      ]
     },
     "metadata": {
      "needs_background": "light"
     },
     "output_type": "display_data"
    }
   ],
   "source": [
    "ob_rewards = [10,10,10,0,1,0,-10,-10,10,10] #假設一個回饋值序列\n",
    "for i in range(len(ob_rewards)):\n",
    "  Z = update_dist(ob_rewards[i], torch.from_numpy(support).float(), Z, lim=(vmin,vmax), gamma=0.5)\n",
    "plt.bar(support, Z)"
   ]
  },
  {
   "cell_type": "markdown",
   "metadata": {
    "id": "R-YJuy9OgQ6J"
   },
   "source": [
    "# 程式 7.5： 相同回饋值組成的序列"
   ]
  },
  {
   "cell_type": "code",
   "execution_count": 11,
   "metadata": {
    "colab": {
     "base_uri": "https://localhost:8080/",
     "height": 283
    },
    "id": "tA00Gb9PgSfq",
    "outputId": "34b86f64-46ef-4446-de4f-32c71384e584"
   },
   "outputs": [
    {
     "data": {
      "text/plain": [
       "<BarContainer object of 51 artists>"
      ]
     },
     "execution_count": 11,
     "metadata": {},
     "output_type": "execute_result"
    },
    {
     "data": {
      "image/png": "[encoded data removed]",
      "text/plain": [
       "<Figure size 432x288 with 1 Axes>"
      ]
     },
     "metadata": {
      "needs_background": "light"
     },
     "output_type": "display_data"
    }
   ],
   "source": [
    "ob_rewards = [5, 5, 5, 5, 5, 5, 5, 5, 5, 5, 5, 5, 5, 5, 5, 5, 5, 5, 5, 5]\n",
    "for i in range(len(ob_rewards)):\n",
    "  Z = update_dist(ob_rewards[i], torch.from_numpy(support).float(), Z, lim=(vmin,vmax), gamma=0.7) #根據回饋值序列中的值依序更新機率分佈\n",
    "plt.bar(support, Z)"
   ]
  },
  {
   "cell_type": "markdown",
   "metadata": {
    "id": "XFMtO9IDoW26"
   },
   "source": [
    "# 程式 7.6： 建構Dist-DQN模型"
   ]
  },
  {
   "cell_type": "code",
   "execution_count": 12,
   "metadata": {
    "id": "4lWEpckWoWIx"
   },
   "outputs": [],
   "source": [
    "def dist_dqn(x,theta,aspace=3): #x是128個元素的狀態向量、theta是參數向量、aspace則是動作空間的大小\n",
    "  dim0,dim1,dim2,dim3 = 128,100,25,51 #定義神經網路中不同層的維度，這樣才能將theta中的參數分到不同層的參數矩陣中\n",
    "  t1 = dim0*dim1 #第一層網路參數矩陣的shape\n",
    "  t2 = dim1*dim2 #第二層網路參數矩陣的shape\n",
    "  theta1 = theta[0:t1].reshape(dim0,dim1) #將theta中[0:t1]的參數分配到第一層網路的參數矩陣中\n",
    "  theta2 = theta[t1: t1+t2].reshape(dim1,dim2) #將theta中[t1:t1+t2]的參數分配到第二層網路的參數矩陣中\n",
    "  l1 = x @ theta1 #輸入資料的shape是 B×128，theta1的shape是 128×100，因此l1(第1層網路）的shape為 B×100，其中B代表批次大小\n",
    "  l1 = torch.selu(l1) #以scaled exponential linear units（SELUs）作為激活函數\n",
    "  l2 = l1 @ theta2 #l1的shape是B×100，theta2的shape是100×25，因此l2（第2層網路）的shape為B×25\n",
    "  l2 = torch.selu(l2) #以scaled exponential linear units（SELUs）作為激活函數\n",
    "  l3 = []\n",
    "  for i in range(aspace): #利用迴圈走訪每一個動作，並產生各動作的價值分佈\n",
    "    step = dim2*dim3\n",
    "    theta5_dim = t1 + t2 + i * step\n",
    "    theta5 = theta[theta5_dim:theta5_dim+step].reshape(dim2,dim3) #將參數分配到不同動作的參數矩陣中\n",
    "    l3_ = l2 @ theta5 #l2的shape是B×25，theta5的shape是25×51，因此該計算結果的shape為B×51\n",
    "    l3.append(l3_)\n",
    "  l3 = torch.stack(l3,dim=1) #最後一層網路的shape為B×3×51\n",
    "  l3 = torch.nn.functional.softmax(l3,dim=2)\n",
    "  return l3.squeeze()"
   ]
  },
  {
   "cell_type": "markdown",
   "metadata": {
    "id": "C0mIX5t6_L0l"
   },
   "source": [
    "# 程式 7.7: 計算目標分佈"
   ]
  },
  {
   "cell_type": "code",
   "execution_count": 13,
   "metadata": {
    "id": "SY8U9_ay_PBC"
   },
   "outputs": [],
   "source": [
    "def get_target_dist(dist_batch,action_batch,reward_batch,support,lim=(-10,10),gamma=0.8):\n",
    "  nsup = support.shape[0] #支撐集的元素數量\n",
    "  vmin,vmax = lim[0],lim[1]\n",
    "  dz = (vmax-vmin)/(nsup-1.)\n",
    "  target_dist_batch = dist_batch.clone()\n",
    "  for i in range(dist_batch.shape[0]): #用迴圈走訪整個批次\n",
    "    dist_full = dist_batch[i]\n",
    "    action = int(action_batch[i].item())\n",
    "    dist = dist_full[action]\n",
    "    r = reward_batch[i]\n",
    "    if r != -1: #若回饋值不是 -1，代表已經達到最終狀態，目標分佈為退化分佈（所有機率質量集中在回饋值的位置）\n",
    "      target_dist = torch.zeros(nsup)\n",
    "      bj = np.round((r-vmin)/dz)\n",
    "      bj = int(np.clip(bj,0,nsup-1))\n",
    "      target_dist[bj] = 1.\n",
    "    else: #若目前狀態非最終狀態，則根據回饋值，以貝氏方法更新先驗分佈\n",
    "      target_dist = update_dist(r,support,dist,lim=lim,gamma=gamma)\n",
    "    target_dist_batch[i,action,:] = target_dist #只變更與執行動作有關的分佈\n",
    "  return target_dist_batch"
   ]
  },
  {
   "cell_type": "markdown",
   "metadata": {
    "id": "1-8OX6oCNIW0"
   },
   "source": [
    "# 表 7.4"
   ]
  },
  {
   "cell_type": "code",
   "execution_count": 14,
   "metadata": {
    "id": "NsgIDZCUNKMU"
   },
   "outputs": [],
   "source": [
    "p = np.array([0.1,0.1])\n",
    "q = np.array([0.6,0.5])\n",
    "def lr(p,q):\n",
    "  return np.prod(p/q) #計算個別元素的概度比，再把結果相乘"
   ]
  },
  {
   "cell_type": "markdown",
   "metadata": {
    "id": "mZacUFMwO0D6"
   },
   "source": [
    "# 表 7.5"
   ]
  },
  {
   "cell_type": "code",
   "execution_count": 15,
   "metadata": {
    "id": "vc3t7r2SOx_u"
   },
   "outputs": [],
   "source": [
    "p = np.array([0.1,0.1])\n",
    "q = np.array([0.6,0.5])\n",
    "def lr(p,q):\n",
    "  return np.sum(np.log(p/q))"
   ]
  },
  {
   "cell_type": "markdown",
   "metadata": {
    "id": "_DmY3KskQe8B"
   },
   "source": [
    "# 表 7.6"
   ]
  },
  {
   "cell_type": "code",
   "execution_count": 16,
   "metadata": {
    "id": "2WgQYly7Qg7h"
   },
   "outputs": [],
   "source": [
    "p = np.array([0.1,0.1])\n",
    "q = np.array([0.6,0.5])\n",
    "def lr(p,q):\n",
    "  x = q * np.log(p/q)\n",
    "  x = np.sum(x)\n",
    "  return x"
   ]
  },
  {
   "cell_type": "markdown",
   "metadata": {
    "id": "FFJ8eZeuSGC8"
   },
   "source": [
    "# 表 7.7"
   ]
  },
  {
   "cell_type": "code",
   "execution_count": 17,
   "metadata": {
    "id": "IBOVdh8JSH-P"
   },
   "outputs": [],
   "source": [
    "p = np.array([0.1,0.1])\n",
    "q = np.array([0.6,0.5])\n",
    "def lr(p,q):\n",
    "  x = q * np.log(p/q)\n",
    "  x = -1 * np.sum(x)\n",
    "  return x"
   ]
  },
  {
   "cell_type": "markdown",
   "metadata": {
    "id": "Ex0Ac5O2ZssZ"
   },
   "source": [
    "# 程式 7.8：交叉熵損失函數"
   ]
  },
  {
   "cell_type": "code",
   "execution_count": 18,
   "metadata": {
    "id": "RJwCelhhZp5-"
   },
   "outputs": [],
   "source": [
    "def lossfn(x,y):#計算預測分佈x和目標分佈y之間的損失\n",
    "  loss = torch.Tensor([0.])\n",
    "  loss.requires_grad=True\n",
    "  for i in range(x.shape[0]): #走訪批次中的每個元素\n",
    "    loss_ = -1 *  torch.log(x[i].flatten(start_dim=0)) @ y[i].flatten(start_dim=0) #將個別資料的損失存放進一個陣列中\n",
    "    loss = loss + loss_ #將損失陣列中的元素加總，得到該批次的損失值\n",
    "  return loss"
   ]
  },
  {
   "cell_type": "markdown",
   "metadata": {
    "id": "goo55ZHJgYcR"
   },
   "source": [
    "# 程式 7.9： 使用模擬資料進行測試"
   ]
  },
  {
   "cell_type": "code",
   "execution_count": 19,
   "metadata": {
    "colab": {
     "base_uri": "https://localhost:8080/",
     "height": 445
    },
    "id": "AYd1yXRygz6t",
    "outputId": "f854e4c6-77a8-4dba-a795-3153ad382aae"
   },
   "outputs": [
    {
     "data": {
      "text/plain": [
       "<matplotlib.legend.Legend at 0x1e1ad0d1cd0>"
      ]
     },
     "execution_count": 19,
     "metadata": {},
     "output_type": "execute_result"
    },
    {
     "data": {
      "image/png": "[encoded data removed]",
      "text/plain": [
       "<Figure size 1440x504 with 1 Axes>"
      ]
     },
     "metadata": {
      "needs_background": "light"
     },
     "output_type": "display_data"
    }
   ],
   "source": [
    "aspace = 3 #將動作空間的大小設為3\n",
    "tot_params = 128*100 + 25*100 + aspace*25*51 #根據神經層大小來定義參數總數\n",
    "theta = torch.randn(tot_params)/10. #隨機生成Dist-DQN的初始參數向量\n",
    "theta.requires_grad=True\n",
    "theta_2 = theta.detach().clone() #複製theta，將其用於目標網路\n",
    "vmin,vmax= -10,10\n",
    "gamma=0.9\n",
    "lr = 0.00001\n",
    "update_rate = 75 #每隔75步同步一次主要和目標Dist-DQN網路\n",
    "support = torch.linspace(-10,10,51)\n",
    "state = torch.randn(2,128)/10. #隨機產生兩個測試用的初始狀態\n",
    "action_batch = torch.Tensor([0,2]) #生成動作資料\n",
    "reward_batch = torch.Tensor([0,8]) #生成回饋值資料\n",
    "losses = [] \n",
    "pred_batch = dist_dqn(state,theta,aspace=aspace) #初始化預測分佈的批次\n",
    "target_dist = get_target_dist(pred_batch,action_batch,reward_batch, support, lim=(vmin,vmax),gamma=gamma) #初始化目標分佈的批次\n",
    "\n",
    "plt.figure(figsize=(20,7))\n",
    "plt.plot((target_dist.flatten(start_dim=1)[0].data.numpy()),color='red',label='target')\n",
    "plt.plot((pred_batch.flatten(start_dim=1)[0].data.numpy()),color='green',label='pred')\n",
    "plt.legend()"
   ]
  },
  {
   "cell_type": "markdown",
   "metadata": {
    "id": "x2VQXWsLm-KD"
   },
   "source": [
    "# 程式 7.10： 使用合成資料訓練Dist-DQN"
   ]
  },
  {
   "cell_type": "code",
   "execution_count": 20,
   "metadata": {
    "colab": {
     "base_uri": "https://localhost:8080/",
     "height": 445
    },
    "id": "MLzrG2SFnALk",
    "outputId": "8200df48-5cd9-4035-a60b-d7c03edfab81"
   },
   "outputs": [
    {
     "data": {
      "text/plain": [
       "<matplotlib.legend.Legend at 0x1e1ad17c4c0>"
      ]
     },
     "execution_count": 20,
     "metadata": {},
     "output_type": "execute_result"
    },
    {
     "data": {
      "image/png": "[encoded data removed]",
      "text/plain": [
       "<Figure size 1440x504 with 1 Axes>"
      ]
     },
     "metadata": {
      "needs_background": "light"
     },
     "output_type": "display_data"
    }
   ],
   "source": [
    "for i in range(1000):\n",
    "  reward_batch = torch.Tensor([0,8]) + torch.randn(2)/10.0 #在回饋值批次中加入雜訊，避免過度配適\n",
    "  pred_batch = dist_dqn(state,theta,aspace=aspace) #使用主要Dist-DQN模型產生預測分佈\n",
    "  pred_batch2 = dist_dqn(state,theta_2,aspace=aspace) #使用目標Dist-DQN網路產生預測分佈\n",
    "  target_dist = get_target_dist(pred_batch2,action_batch,reward_batch, support, lim=(vmin,vmax),gamma=gamma) #利用目標網路所產生的分佈來建立訓練用的目標分佈\n",
    "  loss = lossfn(pred_batch,target_dist.detach()) #將主模型的預測分佈代入損失函數中\n",
    "  losses.append(loss.item())\n",
    "  loss.backward()\n",
    "  # 手動執行梯度下降\n",
    "  with torch.no_grad():\n",
    "    theta -= lr * theta.grad\n",
    "  theta.requires_grad = True\n",
    "  \n",
    "  if i % update_rate == 0: #{2}讓目標網路的參數與主網路參數同步\n",
    "    theta_2 = theta.clone() \n",
    "\n",
    "plt.figure(figsize=(20,7))\n",
    "plt.plot((target_dist.flatten(start_dim=1)[0].data.numpy()),color='red',label='target')\n",
    "plt.plot((pred_batch.flatten(start_dim=1)[0].data.numpy()),color='green',label='pred')\n",
    "plt.legend()"
   ]
  },
  {
   "cell_type": "code",
   "execution_count": 21,
   "metadata": {
    "colab": {
     "base_uri": "https://localhost:8080/",
     "height": 445
    },
    "id": "YXYOyv9fn7Nq",
    "outputId": "f2a93505-a093-4708-b02f-2bed2f4ff400"
   },
   "outputs": [
    {
     "data": {
      "text/plain": [
       "[<matplotlib.lines.Line2D at 0x1e1ace348e0>]"
      ]
     },
     "execution_count": 21,
     "metadata": {},
     "output_type": "execute_result"
    },
    {
     "data": {
      "image/png": "[encoded data removed]",
      "text/plain": [
       "<Figure size 1440x504 with 1 Axes>"
      ]
     },
     "metadata": {
      "needs_background": "light"
     },
     "output_type": "display_data"
    }
   ],
   "source": [
    "plt.figure(figsize=(20,7))\n",
    "plt.plot(losses)"
   ]
  },
  {
   "cell_type": "markdown",
   "metadata": {
    "id": "ueDBcnKqpluc"
   },
   "source": [
    "# 程式 7.11： 視覺化呈現模型所學到的動作價值分佈"
   ]
  },
  {
   "cell_type": "code",
   "execution_count": 22,
   "metadata": {
    "colab": {
     "base_uri": "https://localhost:8080/",
     "height": 700
    },
    "id": "XYPz-4Drp5j7",
    "outputId": "4df07a52-d25a-413f-bc66-333ac1926c2a"
   },
   "outputs": [
    {
     "data": {
      "image/png": "[encoded data removed]",
      "text/plain": [
       "<Figure size 864x864 with 6 Axes>"
      ]
     },
     "metadata": {
      "needs_background": "light"
     },
     "output_type": "display_data"
    }
   ],
   "source": [
    "tpred = pred_batch\n",
    "cs = ['gray','green','red']\n",
    "num_batch = 2\n",
    "labels = ['Action {}'.format(i,) for i in range(aspace)]\n",
    "fig,ax = plt.subplots(nrows=num_batch,ncols=aspace,figsize=(12,12))\n",
    "for j in range(num_batch): #以迴圈走訪批次中的每一筆訓練資料\n",
    "  for i in range(tpred.shape[1]): #以迴圈走訪每一種動作\n",
    "    ax[j,i].bar(support.data.numpy(),tpred[j,i,:].data.numpy(),label='Action {}'.format(i),alpha=0.9,color=cs[i])"
   ]
  },
  {
   "cell_type": "markdown",
   "metadata": {
    "id": "Wg9uCS29tjgs"
   },
   "source": [
    "# 程式 7.12： 對狀態資料進行預處理，並決定選擇動作的策略"
   ]
  },
  {
   "cell_type": "code",
   "execution_count": 23,
   "metadata": {
    "id": "itJwt0Yttieb"
   },
   "outputs": [],
   "source": [
    "def preproc_state(state): #資料預處理函式\n",
    "  p_state = torch.from_numpy(state).unsqueeze(dim=0).float()\n",
    "  p_state = torch.nn.functional.normalize(p_state,dim=1) #將狀態中的數值正規化至0和1之間\n",
    "  return p_state\n",
    "\n",
    "def get_action(dist,support): #動作選擇策略函式\n",
    "  actions = []\n",
    "  for b in range(dist.shape[0]): #以迴圈走訪批次中分佈維度上的資料\n",
    "    expectations = [support @ dist[b,a,:] for a in range(dist.shape[1])] #計算每個動作價值分佈的期望值\n",
    "    action = int(np.argmax(expectations)) #計算出擁有最高期望值的動作\n",
    "    actions.append(action)\n",
    "  actions = torch.Tensor(actions).int()\n",
    "  return actions"
   ]
  },
  {
   "cell_type": "code",
   "execution_count": 25,
   "metadata": {},
   "outputs": [
    {
     "name": "stdout",
     "output_type": "stream",
     "text": [
      "Requirement already satisfied: gym[atari] in c:\\users\\admin\\anaconda3\\lib\\site-packages (0.18.0)\n",
      "Note: you may need to restart the kernel to use updated packages.\n",
      "Requirement already satisfied: pyglet<=1.5.0,>=1.4.0 in c:\\users\\admin\\anaconda3\\lib\\site-packages (from gym[atari]) (1.5.0)\n",
      "Requirement already satisfied: numpy>=1.10.4 in c:\\users\\admin\\anaconda3\\lib\\site-packages (from gym[atari]) (1.18.5)\n",
      "Requirement already satisfied: Pillow<=7.2.0 in c:\\users\\admin\\anaconda3\\lib\\site-packages (from gym[atari]) (7.2.0)\n",
      "Requirement already satisfied: scipy in c:\\users\\admin\\anaconda3\\lib\\site-packages (from gym[atari]) (1.5.0)\n",
      "Requirement already satisfied: cloudpickle<1.7.0,>=1.2.0 in c:\\users\\admin\\anaconda3\\lib\\site-packages (from gym[atari]) (1.5.0)\n",
      "Requirement already satisfied: opencv-python>=3.; extra == \"atari\" in c:\\users\\admin\\anaconda3\\lib\\site-packages (from gym[atari]) (4.5.1.48)\n",
      "Collecting atari-py~=0.2.0; extra == \"atari\"\n",
      "  Downloading atari-py-0.2.6.tar.gz (790 kB)\n",
      "Requirement already satisfied: future in c:\\users\\admin\\anaconda3\\lib\\site-packages (from pyglet<=1.5.0,>=1.4.0->gym[atari]) (0.18.2)\n",
      "Requirement already satisfied: six in c:\\users\\admin\\anaconda3\\lib\\site-packages (from atari-py~=0.2.0; extra == \"atari\"->gym[atari]) (1.15.0)\n",
      "Building wheels for collected packages: atari-py\n",
      "  Building wheel for atari-py (setup.py): started\n",
      "  Building wheel for atari-py (setup.py): finished with status 'done'\n",
      "  Created wheel for atari-py: filename=atari_py-0.2.6-cp38-cp38-win_amd64.whl size=1155040 sha256=9984181825c3ee9a795e3bf0093ea31f95340913ce6beaff53399b291ca1120b\n",
      "  Stored in directory: c:\\users\\admin\\appdata\\local\\pip\\cache\\wheels\\7f\\5e\\27\\2e90b9887063d82ee2f9f8b2f8db76bb2290aa281dc40449c8\n",
      "Successfully built atari-py\n",
      "Installing collected packages: atari-py\n",
      "Successfully installed atari-py-0.2.6\n"
     ]
    }
   ],
   "source": [
    "pip install gym[atari]"
   ]
  },
  {
   "cell_type": "markdown",
   "metadata": {
    "id": "UaVlijqFv6K5"
   },
   "source": [
    "# 程式 7.13： 為Freeway遊戲做準備"
   ]
  },
  {
   "cell_type": "code",
   "execution_count": 24,
   "metadata": {
    "id": "-njrQABqv8gl"
   },
   "outputs": [
    {
     "ename": "DependencyNotInstalled",
     "evalue": "No module named 'atari_py'. (HINT: you can install Atari dependencies by running 'pip install gym[atari]'.)",
     "output_type": "error",
     "traceback": [
      "\u001b[1;31m---------------------------------------------------------------------------\u001b[0m",
      "\u001b[1;31mModuleNotFoundError\u001b[0m                       Traceback (most recent call last)",
      "\u001b[1;32m~\\anaconda3\\lib\\site-packages\\gym\\envs\\atari\\atari_env.py\u001b[0m in \u001b[0;36m<module>\u001b[1;34m\u001b[0m\n\u001b[0;32m      8\u001b[0m \u001b[1;32mtry\u001b[0m\u001b[1;33m:\u001b[0m\u001b[1;33m\u001b[0m\u001b[1;33m\u001b[0m\u001b[0m\n\u001b[1;32m----> 9\u001b[1;33m     \u001b[1;32mimport\u001b[0m \u001b[0matari_py\u001b[0m\u001b[1;33m\u001b[0m\u001b[1;33m\u001b[0m\u001b[0m\n\u001b[0m\u001b[0;32m     10\u001b[0m \u001b[1;32mexcept\u001b[0m \u001b[0mImportError\u001b[0m \u001b[1;32mas\u001b[0m \u001b[0me\u001b[0m\u001b[1;33m:\u001b[0m\u001b[1;33m\u001b[0m\u001b[1;33m\u001b[0m\u001b[0m\n",
      "\u001b[1;31mModuleNotFoundError\u001b[0m: No module named 'atari_py'",
      "\nDuring handling of the above exception, another exception occurred:\n",
      "\u001b[1;31mDependencyNotInstalled\u001b[0m                    Traceback (most recent call last)",
      "\u001b[1;32m<ipython-input-24-6c8bab6d8c28>\u001b[0m in \u001b[0;36m<module>\u001b[1;34m\u001b[0m\n\u001b[0;32m      1\u001b[0m \u001b[1;32mimport\u001b[0m \u001b[0mgym\u001b[0m\u001b[1;33m\u001b[0m\u001b[1;33m\u001b[0m\u001b[0m\n\u001b[0;32m      2\u001b[0m \u001b[1;32mfrom\u001b[0m \u001b[0mcollections\u001b[0m \u001b[1;32mimport\u001b[0m \u001b[0mdeque\u001b[0m\u001b[1;33m\u001b[0m\u001b[1;33m\u001b[0m\u001b[0m\n\u001b[1;32m----> 3\u001b[1;33m \u001b[0menv\u001b[0m \u001b[1;33m=\u001b[0m \u001b[0mgym\u001b[0m\u001b[1;33m.\u001b[0m\u001b[0mmake\u001b[0m\u001b[1;33m(\u001b[0m\u001b[1;34m'Freeway-ram-v0'\u001b[0m\u001b[1;33m)\u001b[0m\u001b[1;33m\u001b[0m\u001b[1;33m\u001b[0m\u001b[0m\n\u001b[0m\u001b[0;32m      4\u001b[0m \u001b[0maspace\u001b[0m \u001b[1;33m=\u001b[0m \u001b[1;36m3\u001b[0m\u001b[1;33m\u001b[0m\u001b[1;33m\u001b[0m\u001b[0m\n\u001b[0;32m      5\u001b[0m \u001b[1;33m\u001b[0m\u001b[0m\n",
      "\u001b[1;32m~\\anaconda3\\lib\\site-packages\\gym\\envs\\registration.py\u001b[0m in \u001b[0;36mmake\u001b[1;34m(id, **kwargs)\u001b[0m\n\u001b[0;32m    143\u001b[0m \u001b[1;33m\u001b[0m\u001b[0m\n\u001b[0;32m    144\u001b[0m \u001b[1;32mdef\u001b[0m \u001b[0mmake\u001b[0m\u001b[1;33m(\u001b[0m\u001b[0mid\u001b[0m\u001b[1;33m,\u001b[0m \u001b[1;33m**\u001b[0m\u001b[0mkwargs\u001b[0m\u001b[1;33m)\u001b[0m\u001b[1;33m:\u001b[0m\u001b[1;33m\u001b[0m\u001b[1;33m\u001b[0m\u001b[0m\n\u001b[1;32m--> 145\u001b[1;33m     \u001b[1;32mreturn\u001b[0m \u001b[0mregistry\u001b[0m\u001b[1;33m.\u001b[0m\u001b[0mmake\u001b[0m\u001b[1;33m(\u001b[0m\u001b[0mid\u001b[0m\u001b[1;33m,\u001b[0m \u001b[1;33m**\u001b[0m\u001b[0mkwargs\u001b[0m\u001b[1;33m)\u001b[0m\u001b[1;33m\u001b[0m\u001b[1;33m\u001b[0m\u001b[0m\n\u001b[0m\u001b[0;32m    146\u001b[0m \u001b[1;33m\u001b[0m\u001b[0m\n\u001b[0;32m    147\u001b[0m \u001b[1;32mdef\u001b[0m \u001b[0mspec\u001b[0m\u001b[1;33m(\u001b[0m\u001b[0mid\u001b[0m\u001b[1;33m)\u001b[0m\u001b[1;33m:\u001b[0m\u001b[1;33m\u001b[0m\u001b[1;33m\u001b[0m\u001b[0m\n",
      "\u001b[1;32m~\\anaconda3\\lib\\site-packages\\gym\\envs\\registration.py\u001b[0m in \u001b[0;36mmake\u001b[1;34m(self, path, **kwargs)\u001b[0m\n\u001b[0;32m     88\u001b[0m             \u001b[0mlogger\u001b[0m\u001b[1;33m.\u001b[0m\u001b[0minfo\u001b[0m\u001b[1;33m(\u001b[0m\u001b[1;34m'Making new env: %s'\u001b[0m\u001b[1;33m,\u001b[0m \u001b[0mpath\u001b[0m\u001b[1;33m)\u001b[0m\u001b[1;33m\u001b[0m\u001b[1;33m\u001b[0m\u001b[0m\n\u001b[0;32m     89\u001b[0m         \u001b[0mspec\u001b[0m \u001b[1;33m=\u001b[0m \u001b[0mself\u001b[0m\u001b[1;33m.\u001b[0m\u001b[0mspec\u001b[0m\u001b[1;33m(\u001b[0m\u001b[0mpath\u001b[0m\u001b[1;33m)\u001b[0m\u001b[1;33m\u001b[0m\u001b[1;33m\u001b[0m\u001b[0m\n\u001b[1;32m---> 90\u001b[1;33m         \u001b[0menv\u001b[0m \u001b[1;33m=\u001b[0m \u001b[0mspec\u001b[0m\u001b[1;33m.\u001b[0m\u001b[0mmake\u001b[0m\u001b[1;33m(\u001b[0m\u001b[1;33m**\u001b[0m\u001b[0mkwargs\u001b[0m\u001b[1;33m)\u001b[0m\u001b[1;33m\u001b[0m\u001b[1;33m\u001b[0m\u001b[0m\n\u001b[0m\u001b[0;32m     91\u001b[0m         \u001b[1;31m# We used to have people override _reset/_step rather than\u001b[0m\u001b[1;33m\u001b[0m\u001b[1;33m\u001b[0m\u001b[1;33m\u001b[0m\u001b[0m\n\u001b[0;32m     92\u001b[0m         \u001b[1;31m# reset/step. Set _gym_disable_underscore_compat = True on\u001b[0m\u001b[1;33m\u001b[0m\u001b[1;33m\u001b[0m\u001b[1;33m\u001b[0m\u001b[0m\n",
      "\u001b[1;32m~\\anaconda3\\lib\\site-packages\\gym\\envs\\registration.py\u001b[0m in \u001b[0;36mmake\u001b[1;34m(self, **kwargs)\u001b[0m\n\u001b[0;32m     57\u001b[0m             \u001b[0menv\u001b[0m \u001b[1;33m=\u001b[0m \u001b[0mself\u001b[0m\u001b[1;33m.\u001b[0m\u001b[0mentry_point\u001b[0m\u001b[1;33m(\u001b[0m\u001b[1;33m**\u001b[0m\u001b[0m_kwargs\u001b[0m\u001b[1;33m)\u001b[0m\u001b[1;33m\u001b[0m\u001b[1;33m\u001b[0m\u001b[0m\n\u001b[0;32m     58\u001b[0m         \u001b[1;32melse\u001b[0m\u001b[1;33m:\u001b[0m\u001b[1;33m\u001b[0m\u001b[1;33m\u001b[0m\u001b[0m\n\u001b[1;32m---> 59\u001b[1;33m             \u001b[0mcls\u001b[0m \u001b[1;33m=\u001b[0m \u001b[0mload\u001b[0m\u001b[1;33m(\u001b[0m\u001b[0mself\u001b[0m\u001b[1;33m.\u001b[0m\u001b[0mentry_point\u001b[0m\u001b[1;33m)\u001b[0m\u001b[1;33m\u001b[0m\u001b[1;33m\u001b[0m\u001b[0m\n\u001b[0m\u001b[0;32m     60\u001b[0m             \u001b[0menv\u001b[0m \u001b[1;33m=\u001b[0m \u001b[0mcls\u001b[0m\u001b[1;33m(\u001b[0m\u001b[1;33m**\u001b[0m\u001b[0m_kwargs\u001b[0m\u001b[1;33m)\u001b[0m\u001b[1;33m\u001b[0m\u001b[1;33m\u001b[0m\u001b[0m\n\u001b[0;32m     61\u001b[0m \u001b[1;33m\u001b[0m\u001b[0m\n",
      "\u001b[1;32m~\\anaconda3\\lib\\site-packages\\gym\\envs\\registration.py\u001b[0m in \u001b[0;36mload\u001b[1;34m(name)\u001b[0m\n\u001b[0;32m     16\u001b[0m \u001b[1;32mdef\u001b[0m \u001b[0mload\u001b[0m\u001b[1;33m(\u001b[0m\u001b[0mname\u001b[0m\u001b[1;33m)\u001b[0m\u001b[1;33m:\u001b[0m\u001b[1;33m\u001b[0m\u001b[1;33m\u001b[0m\u001b[0m\n\u001b[0;32m     17\u001b[0m     \u001b[0mmod_name\u001b[0m\u001b[1;33m,\u001b[0m \u001b[0mattr_name\u001b[0m \u001b[1;33m=\u001b[0m \u001b[0mname\u001b[0m\u001b[1;33m.\u001b[0m\u001b[0msplit\u001b[0m\u001b[1;33m(\u001b[0m\u001b[1;34m\":\"\u001b[0m\u001b[1;33m)\u001b[0m\u001b[1;33m\u001b[0m\u001b[1;33m\u001b[0m\u001b[0m\n\u001b[1;32m---> 18\u001b[1;33m     \u001b[0mmod\u001b[0m \u001b[1;33m=\u001b[0m \u001b[0mimportlib\u001b[0m\u001b[1;33m.\u001b[0m\u001b[0mimport_module\u001b[0m\u001b[1;33m(\u001b[0m\u001b[0mmod_name\u001b[0m\u001b[1;33m)\u001b[0m\u001b[1;33m\u001b[0m\u001b[1;33m\u001b[0m\u001b[0m\n\u001b[0m\u001b[0;32m     19\u001b[0m     \u001b[0mfn\u001b[0m \u001b[1;33m=\u001b[0m \u001b[0mgetattr\u001b[0m\u001b[1;33m(\u001b[0m\u001b[0mmod\u001b[0m\u001b[1;33m,\u001b[0m \u001b[0mattr_name\u001b[0m\u001b[1;33m)\u001b[0m\u001b[1;33m\u001b[0m\u001b[1;33m\u001b[0m\u001b[0m\n\u001b[0;32m     20\u001b[0m     \u001b[1;32mreturn\u001b[0m \u001b[0mfn\u001b[0m\u001b[1;33m\u001b[0m\u001b[1;33m\u001b[0m\u001b[0m\n",
      "\u001b[1;32m~\\anaconda3\\lib\\importlib\\__init__.py\u001b[0m in \u001b[0;36mimport_module\u001b[1;34m(name, package)\u001b[0m\n\u001b[0;32m    125\u001b[0m                 \u001b[1;32mbreak\u001b[0m\u001b[1;33m\u001b[0m\u001b[1;33m\u001b[0m\u001b[0m\n\u001b[0;32m    126\u001b[0m             \u001b[0mlevel\u001b[0m \u001b[1;33m+=\u001b[0m \u001b[1;36m1\u001b[0m\u001b[1;33m\u001b[0m\u001b[1;33m\u001b[0m\u001b[0m\n\u001b[1;32m--> 127\u001b[1;33m     \u001b[1;32mreturn\u001b[0m \u001b[0m_bootstrap\u001b[0m\u001b[1;33m.\u001b[0m\u001b[0m_gcd_import\u001b[0m\u001b[1;33m(\u001b[0m\u001b[0mname\u001b[0m\u001b[1;33m[\u001b[0m\u001b[0mlevel\u001b[0m\u001b[1;33m:\u001b[0m\u001b[1;33m]\u001b[0m\u001b[1;33m,\u001b[0m \u001b[0mpackage\u001b[0m\u001b[1;33m,\u001b[0m \u001b[0mlevel\u001b[0m\u001b[1;33m)\u001b[0m\u001b[1;33m\u001b[0m\u001b[1;33m\u001b[0m\u001b[0m\n\u001b[0m\u001b[0;32m    128\u001b[0m \u001b[1;33m\u001b[0m\u001b[0m\n\u001b[0;32m    129\u001b[0m \u001b[1;33m\u001b[0m\u001b[0m\n",
      "\u001b[1;32m~\\anaconda3\\lib\\importlib\\_bootstrap.py\u001b[0m in \u001b[0;36m_gcd_import\u001b[1;34m(name, package, level)\u001b[0m\n",
      "\u001b[1;32m~\\anaconda3\\lib\\importlib\\_bootstrap.py\u001b[0m in \u001b[0;36m_find_and_load\u001b[1;34m(name, import_)\u001b[0m\n",
      "\u001b[1;32m~\\anaconda3\\lib\\importlib\\_bootstrap.py\u001b[0m in \u001b[0;36m_find_and_load_unlocked\u001b[1;34m(name, import_)\u001b[0m\n",
      "\u001b[1;32m~\\anaconda3\\lib\\importlib\\_bootstrap.py\u001b[0m in \u001b[0;36m_load_unlocked\u001b[1;34m(spec)\u001b[0m\n",
      "\u001b[1;32m~\\anaconda3\\lib\\importlib\\_bootstrap_external.py\u001b[0m in \u001b[0;36mexec_module\u001b[1;34m(self, module)\u001b[0m\n",
      "\u001b[1;32m~\\anaconda3\\lib\\importlib\\_bootstrap.py\u001b[0m in \u001b[0;36m_call_with_frames_removed\u001b[1;34m(f, *args, **kwds)\u001b[0m\n",
      "\u001b[1;32m~\\anaconda3\\lib\\site-packages\\gym\\envs\\atari\\__init__.py\u001b[0m in \u001b[0;36m<module>\u001b[1;34m\u001b[0m\n\u001b[1;32m----> 1\u001b[1;33m \u001b[1;32mfrom\u001b[0m \u001b[0mgym\u001b[0m\u001b[1;33m.\u001b[0m\u001b[0menvs\u001b[0m\u001b[1;33m.\u001b[0m\u001b[0matari\u001b[0m\u001b[1;33m.\u001b[0m\u001b[0matari_env\u001b[0m \u001b[1;32mimport\u001b[0m \u001b[0mAtariEnv\u001b[0m\u001b[1;33m\u001b[0m\u001b[1;33m\u001b[0m\u001b[0m\n\u001b[0m",
      "\u001b[1;32m~\\anaconda3\\lib\\site-packages\\gym\\envs\\atari\\atari_env.py\u001b[0m in \u001b[0;36m<module>\u001b[1;34m\u001b[0m\n\u001b[0;32m      9\u001b[0m     \u001b[1;32mimport\u001b[0m \u001b[0matari_py\u001b[0m\u001b[1;33m\u001b[0m\u001b[1;33m\u001b[0m\u001b[0m\n\u001b[0;32m     10\u001b[0m \u001b[1;32mexcept\u001b[0m \u001b[0mImportError\u001b[0m \u001b[1;32mas\u001b[0m \u001b[0me\u001b[0m\u001b[1;33m:\u001b[0m\u001b[1;33m\u001b[0m\u001b[1;33m\u001b[0m\u001b[0m\n\u001b[1;32m---> 11\u001b[1;33m     raise error.DependencyNotInstalled(\n\u001b[0m\u001b[0;32m     12\u001b[0m             \u001b[1;34m\"{}. (HINT: you can install Atari dependencies by running \"\u001b[0m\u001b[1;33m\u001b[0m\u001b[1;33m\u001b[0m\u001b[0m\n\u001b[0;32m     13\u001b[0m             \"'pip install gym[atari]'.)\".format(e))\n",
      "\u001b[1;31mDependencyNotInstalled\u001b[0m: No module named 'atari_py'. (HINT: you can install Atari dependencies by running 'pip install gym[atari]'.)"
     ]
    }
   ],
   "source": [
    "import gym\n",
    "from collections import deque\n",
    "env = gym.make('Freeway-ram-v0')\n",
    "aspace = 3\n",
    "\n",
    "vmin,vmax = -10,10\n",
    "replay_size = 200\n",
    "batch_size = 50\n",
    "nsup = 51\n",
    "dz = (vmax - vmin) / (nsup-1)\n",
    "support = torch.linspace(vmin,vmax,nsup)\n",
    "\n",
    "replay = deque(maxlen=replay_size) #利用deque資料結構建立經驗池\n",
    "lr = 0.0001 #學習率\n",
    "gamma = 0.1 #折扣係數\n",
    "epochs = 1300\n",
    "eps = 0.20 #ε—貪婪策略中的初始ε值\n",
    "eps_min = 0.05 # ε的最小值\n",
    "priority_level = 5 #優先回放：將回放中的重要經驗複製5次\n",
    "update_freq = 25 #每隔25步同步一次目標網路\n",
    "\n",
    "#初始化DQN參數向量\n",
    "tot_params = 128*100 + 25*100 + aspace*25*51  #Dist-DQN的總參數數量\n",
    "theta = torch.randn(tot_params)/10. #隨機產生Dist-DQN的初始參數\n",
    "theta.requires_grad=True\n",
    "theta_2 = theta.detach().clone() #初始化目標網路的參數\n",
    "\n",
    "losses = []\n",
    "cum_rewards = [] #每次贏得遊戲（成功越過公路）便在串列中記錄1\n",
    "renders = []\n",
    "state = preproc_state(env.reset())"
   ]
  },
  {
   "cell_type": "markdown",
   "metadata": {
    "id": "TVnLohizwCkM"
   },
   "source": [
    "# 程式 7.14：主要訓練迴圈"
   ]
  },
  {
   "cell_type": "code",
   "execution_count": null,
   "metadata": {
    "id": "0OexzjTewE2K"
   },
   "outputs": [],
   "source": [
    "from random import shuffle\n",
    "for i in range(epochs):\n",
    "  pred = dist_dqn(state,theta,aspace=aspace)\n",
    "  if i < replay_size or np.random.rand(1) < eps: #ε—貪婪動作選擇\n",
    "    action = np.random.randint(aspace)\n",
    "  else:\n",
    "    action = get_action(pred.unsqueeze(dim=0).detach(),support).item()\n",
    "  state2, reward, done, info = env.step(action) #在環境中執行選擇的動作\n",
    "  state2 = preproc_state(state2)\n",
    "  if reward == 1: cum_rewards.append(1)\n",
    "  reward = 10 if reward == 1 else reward #若成功穿越公路，將回饋值改成+10\n",
    "  reward = -10 if done else reward #若遊戲以失敗告終（很長一段時間過後，仍未穿越公路），則將回饋值改為 -10\n",
    "  reward = -1 if reward == 0 else reward #將環境產生的回饋值0（遊戲尚未有結果）修改成 -1，藉此懲罰演算法執行了沒有結果的動作\n",
    "  exp = (state,action,reward,state2) #將得到的資訊打包成tuple的資料型態，做為訓練資料\n",
    "  replay.append(exp) #將訓練資料加入經驗中\n",
    "  \n",
    "  if reward == 10: #若回饋值為10，代表該資料是重要的，要複製5份到緩衝區\n",
    "    for e in range(priority_level):\n",
    "      replay.append(exp)          \n",
    "  shuffle(replay)\n",
    "  state = state2\n",
    "\n",
    "  if len(replay) == replay_size: #當經驗池放滿資料後，開始進行訓練\n",
    "    indx = np.random.randint(low=0,high=len(replay),size=batch_size) \n",
    "    exps = [replay[j] for j in indx]\n",
    "    state_batch = torch.stack([ex[0] for ex in exps],dim=1).squeeze()\n",
    "    action_batch = torch.Tensor([ex[1] for ex in exps])\n",
    "    reward_batch = torch.Tensor([ex[2] for ex in exps])\n",
    "    state2_batch = torch.stack([ex[3] for ex in exps],dim=1).squeeze()\n",
    "    pred_batch = dist_dqn(state_batch.detach(),theta,aspace=aspace)\n",
    "    pred2_batch = dist_dqn(state2_batch.detach(),theta_2,aspace=aspace)\n",
    "    target_dist = get_target_dist(pred2_batch,action_batch,reward_batch, support, lim=(vmin,vmax),gamma=gamma)\n",
    "    loss = lossfn(pred_batch,target_dist.detach()) \n",
    "    losses.append(loss.item())\n",
    "    loss.backward()\n",
    "    with torch.no_grad(): #梯度下降\n",
    "      theta -= lr * theta.grad\n",
    "    theta.requires_grad = True\n",
    "      \n",
    "  if i % update_freq == 0: #同步目標網路與主模型的參數\n",
    "    theta_2 = theta.detach().clone()\n",
    "      \n",
    "  if i > 100 and eps > eps_min: #ε會隨著訓練次數的增加而下降，除非已達到最小值\n",
    "    dec = 1./np.log2(i)\n",
    "    dec /= 1e3\n",
    "    eps -= dec\n",
    "  \n",
    "  if done: #當遊戲結束時，重置遊戲環境\n",
    "    state = preproc_state(env.reset())\n",
    "    done = False"
   ]
  },
  {
   "cell_type": "code",
   "execution_count": null,
   "metadata": {
    "colab": {
     "base_uri": "https://localhost:8080/",
     "height": 880
    },
    "id": "NLGxdaF5zxEw",
    "outputId": "ded7988f-e4b6-452c-c7c9-d4d9add1460b"
   },
   "outputs": [],
   "source": [
    "plt.figure(figsize=(20,15))\n",
    "plt.plot(losses)"
   ]
  }
 ],
 "metadata": {
  "colab": {
   "collapsed_sections": [],
   "name": "F1384_第7章.ipynb",
   "provenance": [],
   "toc_visible": true
  },
  "kernelspec": {
   "display_name": "Python 3",
   "language": "python",
   "name": "python3"
  },
  "language_info": {
   "codemirror_mode": {
    "name": "ipython",
    "version": 3
   },
   "file_extension": ".py",
   "mimetype": "text/x-python",
   "name": "python",
   "nbconvert_exporter": "python",
   "pygments_lexer": "ipython3",
   "version": "3.8.3"
  }
 },
 "nbformat": 4,
 "nbformat_minor": 1
}
