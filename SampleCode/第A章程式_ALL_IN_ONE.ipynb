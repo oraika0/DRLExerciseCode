{
  "nbformat": 4,
  "nbformat_minor": 0,
  "metadata": {
    "colab": {
      "name": "F1384_附錄.ipynb",
      "provenance": [],
      "collapsed_sections": [],
      "toc_visible": true
    },
    "kernelspec": {
      "display_name": "Python 3",
      "name": "python3"
    }
  },
  "cells": [
    {
      "cell_type": "markdown",
      "metadata": {
        "id": "nnVE0UxgOa2C"
      },
      "source": [
        "# 程式 A.1： 梯度下降"
      ]
    },
    {
      "cell_type": "code",
      "metadata": {
        "colab": {
          "base_uri": "https://localhost:8080/"
        },
        "id": "0UZKkese-0aO",
        "outputId": "03d27345-75fa-41a4-d550-693c5b4d21c8"
      },
      "source": [
        "import numpy as np\n",
        "\n",
        "def f(x): #原始函數\n",
        "  return np.log(np.power(x,4) + np.power(x,3) + 2)\n",
        "\n",
        "def dfdx(x): #導數函數\n",
        "  return (4*np.power(x,3) + 3*np.power(x,2)) / f(x)\n",
        "\n",
        "x = -9.41 #隨機選取的起始點\n",
        "lr = 0.001 #學習率（即步伐參數）\n",
        "epochs = 5000 #迭代次數\n",
        "for i in range(epochs):\n",
        "  deriv = dfdx(x) #計算當前資料點上的導數\n",
        "  x = x - lr * deriv #更新資料點\n",
        "print(x)"
      ],
      "execution_count": null,
      "outputs": [
        {
          "output_type": "stream",
          "text": [
            "-0.7500000134493898\n"
          ],
          "name": "stdout"
        }
      ]
    },
    {
      "cell_type": "markdown",
      "metadata": {
        "id": "CAZ8wxo1OeCB"
      },
      "source": [
        "# 程式 A.2： 一個簡單的神經網路"
      ]
    },
    {
      "cell_type": "code",
      "metadata": {
        "colab": {
          "base_uri": "https://localhost:8080/"
        },
        "id": "6ipba9ikDQa9",
        "outputId": "46a771d2-30b6-44d6-c164-da2c05c157f4"
      },
      "source": [
        "def nn(x,w1,w2): #定義一個簡單的雙層神經網路\n",
        "  l1 = x @ w1 #矩陣乘法\n",
        "  l1 = np.maximum(0,l1) #非線性激活函數\n",
        "  l2 = l1 @ w2\n",
        "  l2 = np.maximum(0,l2)\n",
        "  return l2\n",
        "\n",
        "w1 = np.random.randn(784,200) #隨機產生參數矩陣及輸入向量\n",
        "w2 = np.random.randn(200,10)\n",
        "x = np.random.randn(784) \n",
        "nn(x,w1,w2) #運行神經網路"
      ],
      "execution_count": null,
      "outputs": [
        {
          "output_type": "execute_result",
          "data": {
            "text/plain": [
              "array([638.9121276 ,   0.        , 254.16209991,  59.36633227,\n",
              "         0.        , 117.66354319,   0.        , 568.49685739,\n",
              "       513.18205742,   0.        ])"
            ]
          },
          "metadata": {
            "tags": []
          },
          "execution_count": 48
        }
      ]
    },
    {
      "cell_type": "markdown",
      "metadata": {
        "id": "6pAjME_BOnHr"
      },
      "source": [
        "# 程式 A.3： PyTorch神經網路"
      ]
    },
    {
      "cell_type": "code",
      "metadata": {
        "colab": {
          "base_uri": "https://localhost:8080/"
        },
        "id": "zK7sBhgbIH02",
        "outputId": "285a34a9-7144-4f98-ae66-bc8847a371c9"
      },
      "source": [
        "import torch\n",
        "\n",
        "def nn(x,w1,w2):\n",
        "  l1 = x @ w1 #矩陣乘法\n",
        "  l1 = torch.relu(l1) #非線性激活函數\n",
        "  l2 = l1 @ w2\n",
        "  return l2\n",
        "\n",
        "w1 = torch.randn(784,200,requires_grad=True) #包含梯度記錄的權重（參數）矩陣\n",
        "w2 = torch.randn(200,10,requires_grad=True)\n",
        "x = torch.randn(784) #隨機輸入向量\n",
        "nn(x,w1,w2) "
      ],
      "execution_count": null,
      "outputs": [
        {
          "output_type": "execute_result",
          "data": {
            "text/plain": [
              "tensor([ -18.0930, -102.1785, -231.5940,   -6.5188,   18.9307,  302.6000,\n",
              "         -88.6396,  -75.5171, -245.2212,  282.3608],\n",
              "       grad_fn=<SqueezeBackward3>)"
            ]
          },
          "metadata": {
            "tags": []
          },
          "execution_count": 49
        }
      ]
    },
    {
      "cell_type": "markdown",
      "metadata": {
        "id": "kwKCkjQqOhu5"
      },
      "source": [
        "# 程式 A.4： 使用神經網路分類MNIST圖片"
      ]
    },
    {
      "cell_type": "code",
      "metadata": {
        "colab": {
          "base_uri": "https://localhost:8080/"
        },
        "id": "yK7kzJdDPO1y",
        "outputId": "61567f10-6b31-4404-df70-7db163d8cf5b"
      },
      "source": [
        "import torchvision as TV\n",
        "\n",
        "# 為了解決請求MNIST數據時出現403錯誤的問題\n",
        "from six.moves import urllib \n",
        "opener = urllib.request.build_opener()\n",
        "opener.addheaders = [('User', 'Google_Chrome')]\n",
        "urllib.request.install_opener(opener)\n",
        "###\n",
        "\n",
        "mnist_data = TV.datasets.MNIST(\"MNIST\", train=True, download=True) #下載並匯入MNIST資料集\n",
        "lr = 0.0001\n",
        "epochs = 2500\n",
        "batch_size = 1000\n",
        "losses = []\n",
        "lossfn = torch.nn.CrossEntropyLoss() #建立損失函數\n",
        "for i in range(epochs):\n",
        "  rid = np.random.randint(0,mnist_data.train_data.shape[0],size=batch_size) #隨機產生一系列索引值\n",
        "  x = mnist_data.train_data[rid].float().flatten(start_dim=1) #產生訓練資料子集，並將原本28×28的圖片扁平化成長度784的向量\n",
        "  x /= x.max() #將向量值正規化至0到1之間\n",
        "  pred = nn(x,w1,w2) #利用神經網路產生預測結果\n",
        "  target = mnist_data.train_labels[rid] #取得對應圖片的正確標籤\n",
        "  loss = lossfn(pred, target)#計算損失\n",
        "  losses.append(loss)\n",
        "  loss.backward() #反向傳播\n",
        "  with torch.no_grad(): #不要計算此區塊的梯度\n",
        "    w1 -= lr * w1.grad #對參數矩陣執行梯度下降\n",
        "    w2 -= lr * w2.grad"
      ],
      "execution_count": null,
      "outputs": [
        {
          "output_type": "stream",
          "text": [
            "/usr/local/lib/python3.7/dist-packages/torchvision/datasets/mnist.py:58: UserWarning: train_data has been renamed data\n",
            "  warnings.warn(\"train_data has been renamed data\")\n",
            "/usr/local/lib/python3.7/dist-packages/torchvision/datasets/mnist.py:48: UserWarning: train_labels has been renamed targets\n",
            "  warnings.warn(\"train_labels has been renamed targets\")\n"
          ],
          "name": "stderr"
        }
      ]
    },
    {
      "cell_type": "markdown",
      "metadata": {
        "id": "EwCXZH5l5jgv"
      },
      "source": [
        "##產生圖A.2之程式碼"
      ]
    },
    {
      "cell_type": "code",
      "metadata": {
        "id": "VBB5caOGLA2b",
        "colab": {
          "base_uri": "https://localhost:8080/",
          "height": 465
        },
        "outputId": "d2775431-0691-4cf1-a210-a0d6d573c0d3"
      },
      "source": [
        "from matplotlib import pyplot as plt\n",
        "plt.figure(figsize=(10,7))\n",
        "plt.imshow(mnist_data.train_data[0])\n",
        "plt.axis('off')"
      ],
      "execution_count": null,
      "outputs": [
        {
          "output_type": "stream",
          "text": [
            "/usr/local/lib/python3.7/dist-packages/torchvision/datasets/mnist.py:58: UserWarning: train_data has been renamed data\n",
            "  warnings.warn(\"train_data has been renamed data\")\n"
          ],
          "name": "stderr"
        },
        {
          "output_type": "execute_result",
          "data": {
            "text/plain": [
              "(-0.5, 27.5, 27.5, -0.5)"
            ]
          },
          "metadata": {
            "tags": []
          },
          "execution_count": 51
        },
        {
          "output_type": "display_data",
          "data": {
            "image/png": "[encoded data removed]",
            "text/plain": [
              "<Figure size 720x504 with 1 Axes>"
            ]
          },
          "metadata": {
            "tags": [],
            "needs_background": "light"
          }
        }
      ]
    },
    {
      "cell_type": "markdown",
      "metadata": {
        "id": "K7_eN49r5_PC"
      },
      "source": [
        "##產生圖A.3之程式碼"
      ]
    },
    {
      "cell_type": "code",
      "metadata": {
        "id": "xZKhtUC-PwhY",
        "colab": {
          "base_uri": "https://localhost:8080/",
          "height": 465
        },
        "outputId": "6a7dbc7b-7fcd-467c-d028-ef05ef94bdfe"
      },
      "source": [
        "plt.figure(figsize=(10,7))\n",
        "plt.xlabel(\"Training Time\", fontsize=16)\n",
        "plt.ylabel(\"Loss\", fontsize=16)\n",
        "plt.plot(losses)"
      ],
      "execution_count": null,
      "outputs": [
        {
          "output_type": "execute_result",
          "data": {
            "text/plain": [
              "[<matplotlib.lines.Line2D at 0x7f004fb1d9d0>]"
            ]
          },
          "metadata": {
            "tags": []
          },
          "execution_count": 52
        },
        {
          "output_type": "display_data",
          "data": {
            "image/png": "[encoded data removed]",
            "text/plain": [
              "<Figure size 720x504 with 1 Axes>"
            ]
          },
          "metadata": {
            "tags": [],
            "needs_background": "light"
          }
        }
      ]
    },
    {
      "cell_type": "markdown",
      "metadata": {
        "id": "_lVEn3OJ6go0"
      },
      "source": [
        "##重建神經網路模型"
      ]
    },
    {
      "cell_type": "code",
      "metadata": {
        "id": "jKFAog6PSuNa"
      },
      "source": [
        "w1 = torch.randn(784,200,requires_grad=True) #包含梯度記錄的權重（參數）矩陣\n",
        "w2 = torch.randn(200,10,requires_grad=True)\n",
        "def nn(x,w1,w2): #重新初始化神經網路\n",
        "  l1 = x @ w1 #矩陣乘法\n",
        "  l1 = torch.relu(l1) #非線性激活函數\n",
        "  l2 = l1 @ w2\n",
        "  return l2"
      ],
      "execution_count": null,
      "outputs": []
    },
    {
      "cell_type": "markdown",
      "metadata": {
        "id": "D_Kvejf8Ow6K"
      },
      "source": [
        "# 程式 A.5：使用Adam優化器"
      ]
    },
    {
      "cell_type": "code",
      "metadata": {
        "id": "ya2ZdBHnOW67",
        "colab": {
          "base_uri": "https://localhost:8080/"
        },
        "outputId": "3286508d-3bfe-44c9-cf31-8535f49e000b"
      },
      "source": [
        "mnist_data = TV.datasets.MNIST(\"MNIST\", train=True, download=False)\n",
        "\n",
        "lr = 0.001\n",
        "epochs = 5000\n",
        "batch_size = 500\n",
        "losses = []\n",
        "lossfn = torch.nn.CrossEntropyLoss() #建立損失函數\n",
        "optim = torch.optim.Adam(params=[w1,w2],lr=lr) #建立ADAM優化器\n",
        "for i in range(epochs):\n",
        "  rid = np.random.randint(0,mnist_data.train_data.shape[0],size=batch_size) \n",
        "  x = mnist_data.train_data[rid].float().flatten(start_dim=1)\n",
        "  x /= x.max()\n",
        "  pred = nn(x,w1,w2)\n",
        "  target = mnist_data.train_labels[rid]\n",
        "  loss = lossfn(pred,target)\n",
        "  losses.append(loss)\n",
        "  loss.backward() #反向傳播\n",
        "  optim.step() #更新參數"
      ],
      "execution_count": null,
      "outputs": [
        {
          "output_type": "stream",
          "text": [
            "/usr/local/lib/python3.7/dist-packages/torchvision/datasets/mnist.py:58: UserWarning: train_data has been renamed data\n",
            "  warnings.warn(\"train_data has been renamed data\")\n",
            "/usr/local/lib/python3.7/dist-packages/torchvision/datasets/mnist.py:48: UserWarning: train_labels has been renamed targets\n",
            "  warnings.warn(\"train_labels has been renamed targets\")\n"
          ],
          "name": "stderr"
        }
      ]
    },
    {
      "cell_type": "markdown",
      "metadata": {
        "id": "oDBIQMbY70Ln"
      },
      "source": [
        "##產生圖A.4之程式碼"
      ]
    },
    {
      "cell_type": "code",
      "metadata": {
        "id": "-LrBeaFNP2bP"
      },
      "source": [
        "plt.figure(figsize=(10,7))\n",
        "plt.xlabel(\"Training Time\", fontsize=22)\n",
        "plt.ylabel(\"Loss\", fontsize=22)\n",
        "plt.plot(losses)"
      ],
      "execution_count": null,
      "outputs": []
    },
    {
      "cell_type": "code",
      "metadata": {
        "id": "NdwC_NJFYPtU"
      },
      "source": [
        "# total = 0\n",
        "# for i in range(pred.shape[0]):\n",
        "#   prediction = pred[i].argmax()\n",
        "#   count = int(prediction == target[i])\n",
        "#   total += count\n",
        "# print(total)\n",
        "# acc = total/pred.shape[0]\n",
        "# print(acc)"
      ],
      "execution_count": null,
      "outputs": []
    }
  ]
}